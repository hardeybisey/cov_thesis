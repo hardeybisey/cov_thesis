{
  "cells": [
    {
      "cell_type": "markdown",
      "metadata": {
        "id": "view-in-github",
        "colab_type": "text"
      },
      "source": [
        "<a href=\"https://colab.research.google.com/github/hardeybisey/cov_thesis/blob/main/COVthesis.ipynb\" target=\"_parent\"><img src=\"https://colab.research.google.com/assets/colab-badge.svg\" alt=\"Open In Colab\"/></a>"
      ]
    },
    {
      "cell_type": "markdown",
      "metadata": {
        "id": "-0-PftZ0Aeft"
      },
      "source": [
        "# DATA DICTIONARY\n",
        "\n",
        "* REASON: REASON FOR DISCHARGE.\n",
        "* AGE: AGE.\n",
        "* GENDER: PATIENTS GENDER.\n",
        "* MARSTAT: MARITAL STATUS.\n",
        "* EDUC: EDUCATION.\n",
        "* EMPLOY:EMPLOYMENT STATUS.\n",
        "* VET: VETERAN STATUS.\n",
        "* LIVARAG: LIVING ARRANGEMENTS.\n",
        "* ARRESTS: NUMBER OF ARRESTS IN 30 DAYS PRIOR TO ADMISSION.\n",
        "* REGION: CENSUS REGION,\n",
        "* METHUSE: This field identifies whether the use of Methadone or Buprenorphine is part of the client's treatment plan.\n",
        "* DAYWAIT: Indicates the number of days from the first contact or request for service until the client was admitted and the first clinical service was provided.\n",
        "* LOS: LENGTH OF STAY\n",
        "* PSOURCE: PRINCIPAL SOURCE OF REFERRAL.\n",
        "* SUB1: TYPE OF SUBTANCE (PRIMARY).\n",
        "* ROUTE1: USUAL ROUTE OF ADMINISTRATION (PRIMARY).\n",
        "* FREQ1: FREQUENCY OF USE (PRIMARY).\n",
        "* FRSTUSE1: AGE AT FIRST USE.\n",
        "* PSYPROB: Indicates whether the client has a psychiatric problem in addition to his or her alcohol or drug use problem.,\n",
        "* HLTHINS : Specifies the client's health insurance (if any). The insurance may or may not cover alcohol or drug treatment.\n",
        "* ALCDRUG: SUBSTANCE ABUSE TYPE."
      ]
    },
    {
      "cell_type": "markdown",
      "metadata": {
        "id": "4snILAQMAefz"
      },
      "source": [
        "**FOCUS OF THIS RESEARCH : Black/African American with no prior treatment episode**\n",
        "\n",
        "\n",
        "# **STEPS:** \n",
        "* 1) Taking out the substet(RACE:Black/African American) from the dataset.\n",
        "* 2) Taking out another substet(NOPRIOR: NO PRIOR TREATMENT EPISODES) from the dataset.\n",
        "* 3) Define target variable.\n",
        "* 4) Define the Predictors. \n",
        "* 5) Delete variables with missing values > 33%.\n",
        "* 6) Drop rows with missing values.\n",
        "* 7) Recategorise the categorical Variables.\n",
        "* 8) Perform EDA on the predictors based on the target variable.\n",
        "* 9) Encode Categorical Variables for machine learning.\n",
        "* 10) Vallidate the best ML Model.\n",
        "\n",
        "**Note:** SUB1: Primary substance abuse type of patient \n",
        "\n",
        "RESEARCH OBJECTIVES:\n",
        "1) Identify a machine learning model that performs best in identifying the outcome of a SUD treatment.\n",
        "2) Identify factors having greater influence in the outcome of a SUD treatment.\n",
        "3) what are the\n",
        "\n",
        "RESEARCH QUESTIONS:\n",
        "\n",
        "1) There is no significant relationship between Type of drugs used and Treatment Success\n",
        "2) There is no significant relationship between Sociodemographic factors(GENDER,AGE,EDUCATION,MARITAL STATUS)and Treatment Success "
      ]
    },
    {
      "cell_type": "code",
      "execution_count": null,
      "metadata": {
        "id": "l8y-pT_4Aef1"
      },
      "outputs": [],
      "source": [
        "import pandas as pd\n",
        "import numpy as np\n",
        "import matplotlib.pyplot as plt\n",
        "import seaborn as sns\n",
        "import warnings\n",
        "warnings.filterwarnings('ignore')\n",
        "plt.style.use('seaborn')"
      ]
    },
    {
      "cell_type": "code",
      "execution_count": null,
      "metadata": {
        "id": "v0CljcJ6Aef3",
        "outputId": "61ef5575-b407-4f6c-cd68-1d1cd20e68ad"
      },
      "outputs": [
        {
          "data": {
            "text/html": [
              "<div>\n",
              "<style scoped>\n",
              "    .dataframe tbody tr th:only-of-type {\n",
              "        vertical-align: middle;\n",
              "    }\n",
              "\n",
              "    .dataframe tbody tr th {\n",
              "        vertical-align: top;\n",
              "    }\n",
              "\n",
              "    .dataframe thead th {\n",
              "        text-align: right;\n",
              "    }\n",
              "</style>\n",
              "<table border=\"1\" class=\"dataframe\">\n",
              "  <thead>\n",
              "    <tr style=\"text-align: right;\">\n",
              "      <th></th>\n",
              "      <th>Unnamed: 0</th>\n",
              "      <th>AGE</th>\n",
              "      <th>GENDER</th>\n",
              "      <th>RACE</th>\n",
              "      <th>ETHNIC</th>\n",
              "      <th>MARSTAT</th>\n",
              "      <th>EDUC</th>\n",
              "      <th>EMPLOY</th>\n",
              "      <th>VET</th>\n",
              "      <th>LIVARAG</th>\n",
              "      <th>...</th>\n",
              "      <th>ROUTE2</th>\n",
              "      <th>FREQ2</th>\n",
              "      <th>FRSTUSE2</th>\n",
              "      <th>SUB3</th>\n",
              "      <th>ROUTE3</th>\n",
              "      <th>FREQ3</th>\n",
              "      <th>FRSTUSE3</th>\n",
              "      <th>ALCDRUG</th>\n",
              "      <th>PSYPROB</th>\n",
              "      <th>HLTHINS</th>\n",
              "    </tr>\n",
              "  </thead>\n",
              "  <tbody>\n",
              "    <tr>\n",
              "      <th>0</th>\n",
              "      <td>1</td>\n",
              "      <td>(5) 21-24</td>\n",
              "      <td>(1) MALE</td>\n",
              "      <td>(5) WHITE</td>\n",
              "      <td>(5) NOT OF HISPANIC ORIGIN</td>\n",
              "      <td>(1) NEVER MARRIED</td>\n",
              "      <td>(2) 9-11</td>\n",
              "      <td>(2) PART TIME</td>\n",
              "      <td>(2) NO</td>\n",
              "      <td>(3) INDEPENDENT LIVING</td>\n",
              "      <td>...</td>\n",
              "      <td>(1) ORAL</td>\n",
              "      <td>(2) 1-3 TIMES IN THE PAST MONTH</td>\n",
              "      <td>(3) 15-17</td>\n",
              "      <td>(1) NONE</td>\n",
              "      <td>NaN</td>\n",
              "      <td>NaN</td>\n",
              "      <td>NaN</td>\n",
              "      <td>(3) ALCOHOL AND OTHER DRUGS</td>\n",
              "      <td>NaN</td>\n",
              "      <td>NaN</td>\n",
              "    </tr>\n",
              "    <tr>\n",
              "      <th>1</th>\n",
              "      <td>2</td>\n",
              "      <td>(4) 18-20</td>\n",
              "      <td>(2) FEMALE</td>\n",
              "      <td>(5) WHITE</td>\n",
              "      <td>(5) NOT OF HISPANIC ORIGIN</td>\n",
              "      <td>(1) NEVER MARRIED</td>\n",
              "      <td>(1) 8 YEARS OR LESS</td>\n",
              "      <td>(3) UNEMPLOYED</td>\n",
              "      <td>(2) NO</td>\n",
              "      <td>(3) INDEPENDENT LIVING</td>\n",
              "      <td>...</td>\n",
              "      <td>(2) SMOKING</td>\n",
              "      <td>(3) 1-2 TIMES IN THE PAST WEEK</td>\n",
              "      <td>(2) 12-14</td>\n",
              "      <td>(1) NONE</td>\n",
              "      <td>NaN</td>\n",
              "      <td>NaN</td>\n",
              "      <td>NaN</td>\n",
              "      <td>(3) ALCOHOL AND OTHER DRUGS</td>\n",
              "      <td>(2) NO</td>\n",
              "      <td>NaN</td>\n",
              "    </tr>\n",
              "    <tr>\n",
              "      <th>2</th>\n",
              "      <td>3</td>\n",
              "      <td>(11) 50-54</td>\n",
              "      <td>(1) MALE</td>\n",
              "      <td>(5) WHITE</td>\n",
              "      <td>(5) NOT OF HISPANIC ORIGIN</td>\n",
              "      <td>(3) SEPARATED</td>\n",
              "      <td>(4) 13-15</td>\n",
              "      <td>(4) NOT IN LABOR FORCE</td>\n",
              "      <td>(2) NO</td>\n",
              "      <td>(3) INDEPENDENT LIVING</td>\n",
              "      <td>...</td>\n",
              "      <td>(1) ORAL</td>\n",
              "      <td>(2) 1-3 TIMES IN THE PAST MONTH</td>\n",
              "      <td>(11) 50-54</td>\n",
              "      <td>(2) ALCOHOL</td>\n",
              "      <td>(1) ORAL</td>\n",
              "      <td>(4) 3-6 TIMES IN THE PAST WEEK</td>\n",
              "      <td>(3) 15-17</td>\n",
              "      <td>(3) ALCOHOL AND OTHER DRUGS</td>\n",
              "      <td>(2) NO</td>\n",
              "      <td>NaN</td>\n",
              "    </tr>\n",
              "  </tbody>\n",
              "</table>\n",
              "<p>3 rows × 34 columns</p>\n",
              "</div>"
            ],
            "text/plain": [
              "   Unnamed: 0         AGE      GENDER       RACE                      ETHNIC  \\\n",
              "0           1   (5) 21-24    (1) MALE  (5) WHITE  (5) NOT OF HISPANIC ORIGIN   \n",
              "1           2   (4) 18-20  (2) FEMALE  (5) WHITE  (5) NOT OF HISPANIC ORIGIN   \n",
              "2           3  (11) 50-54    (1) MALE  (5) WHITE  (5) NOT OF HISPANIC ORIGIN   \n",
              "\n",
              "             MARSTAT                 EDUC                  EMPLOY     VET  \\\n",
              "0  (1) NEVER MARRIED             (2) 9-11           (2) PART TIME  (2) NO   \n",
              "1  (1) NEVER MARRIED  (1) 8 YEARS OR LESS          (3) UNEMPLOYED  (2) NO   \n",
              "2      (3) SEPARATED            (4) 13-15  (4) NOT IN LABOR FORCE  (2) NO   \n",
              "\n",
              "                  LIVARAG  ...       ROUTE2                            FREQ2  \\\n",
              "0  (3) INDEPENDENT LIVING  ...     (1) ORAL  (2) 1-3 TIMES IN THE PAST MONTH   \n",
              "1  (3) INDEPENDENT LIVING  ...  (2) SMOKING   (3) 1-2 TIMES IN THE PAST WEEK   \n",
              "2  (3) INDEPENDENT LIVING  ...     (1) ORAL  (2) 1-3 TIMES IN THE PAST MONTH   \n",
              "\n",
              "     FRSTUSE2         SUB3    ROUTE3                           FREQ3  \\\n",
              "0   (3) 15-17     (1) NONE       NaN                             NaN   \n",
              "1   (2) 12-14     (1) NONE       NaN                             NaN   \n",
              "2  (11) 50-54  (2) ALCOHOL  (1) ORAL  (4) 3-6 TIMES IN THE PAST WEEK   \n",
              "\n",
              "    FRSTUSE3                      ALCDRUG PSYPROB HLTHINS  \n",
              "0        NaN  (3) ALCOHOL AND OTHER DRUGS     NaN     NaN  \n",
              "1        NaN  (3) ALCOHOL AND OTHER DRUGS  (2) NO     NaN  \n",
              "2  (3) 15-17  (3) ALCOHOL AND OTHER DRUGS  (2) NO     NaN  \n",
              "\n",
              "[3 rows x 34 columns]"
            ]
          },
          "execution_count": 137,
          "metadata": {},
          "output_type": "execute_result"
        }
      ],
      "source": [
        "df = pd.read_csv('/Users/hardey/Desktop/COV Thesis/Data/data.csv')\n",
        "df.head(3)"
      ]
    },
    {
      "cell_type": "code",
      "execution_count": null,
      "metadata": {
        "id": "QR6HRkvlAef4"
      },
      "outputs": [],
      "source": [
        "df.drop_duplicates(inplace=True)"
      ]
    },
    {
      "cell_type": "code",
      "execution_count": null,
      "metadata": {
        "id": "AwM-xUMTAef4",
        "outputId": "0cc2b4b4-7f76-4524-d2c3-3b128b11ebb8"
      },
      "outputs": [
        {
          "data": {
            "text/plain": [
              "Index(['Unnamed: 0', 'AGE', 'GENDER', 'RACE', 'ETHNIC', 'MARSTAT', 'EDUC',\n",
              "       'EMPLOY', 'VET', 'LIVARAG', 'ARRESTS', 'STFIPS', 'REGION', 'METHUSE',\n",
              "       'DAYWAIT', 'REASON', 'LOS', 'PSOURCE', 'NOPRIOR', 'SUB1', 'ROUTE1',\n",
              "       'FREQ1', 'FRSTUSE1', 'SUB2', 'ROUTE2', 'FREQ2', 'FRSTUSE2', 'SUB3',\n",
              "       'ROUTE3', 'FREQ3', 'FRSTUSE3', 'ALCDRUG', 'PSYPROB', 'HLTHINS'],\n",
              "      dtype='object')"
            ]
          },
          "execution_count": 139,
          "metadata": {},
          "output_type": "execute_result"
        }
      ],
      "source": [
        "df.columns"
      ]
    },
    {
      "cell_type": "code",
      "execution_count": null,
      "metadata": {
        "id": "Ol36Arf2Aef6",
        "outputId": "e9c3e077-2e1d-4e13-ef76-fcccdddfc5c5"
      },
      "outputs": [
        {
          "data": {
            "text/plain": [
              "array(['(3) TERMINATED BY FACILITY', '(5) INCARCERATED',\n",
              "       '(1) TREATMENT COMPLETED', '(2) LEFT AGAINST PROFESSIONAL ADVICE',\n",
              "       '(4) TRANSFERRED TO ANOTHER TREATMENT PROGRAM OR FACILITY',\n",
              "       '(7) OTHER', '(6) DEATH', nan], dtype=object)"
            ]
          },
          "execution_count": 140,
          "metadata": {},
          "output_type": "execute_result"
        }
      ],
      "source": [
        "df['REASON'].unique()"
      ]
    },
    {
      "cell_type": "code",
      "execution_count": null,
      "metadata": {
        "id": "76O4_QqCAef6",
        "outputId": "612b7fae-8978-48b0-8f89-3be41ef6acb8"
      },
      "outputs": [
        {
          "data": {
            "text/plain": [
              "array(['(2) 2 PRIOR TREATMENT EPISODES', '(3) 3 PRIOR TREATMENT EPISODES',\n",
              "       '(0) NO PRIOR TREATMENT EPISODES',\n",
              "       '(1) 1 PRIOR TREATMENT EPISODES',\n",
              "       '(5) 5 OR MORE PRIOR TREATMENT EPISODES', nan,\n",
              "       '(4) 4 PRIOR TREATMENT EPISODES'], dtype=object)"
            ]
          },
          "execution_count": 141,
          "metadata": {},
          "output_type": "execute_result"
        }
      ],
      "source": [
        "df['NOPRIOR'].unique()"
      ]
    },
    {
      "cell_type": "code",
      "execution_count": null,
      "metadata": {
        "id": "_RHBWO5vAef7",
        "outputId": "4697810d-3d0f-40d4-807d-38508f4164f9"
      },
      "outputs": [
        {
          "data": {
            "text/plain": [
              "array(['(5) 21-24', '(4) 18-20', '(11) 50-54', '(6) 25-29', '(9) 40-44',\n",
              "       '(8) 35-39', '(12) 55 AND OVER', '(10) 45-49', '(7) 30-34',\n",
              "       '(3) 15-17', '(2) 12-14'], dtype=object)"
            ]
          },
          "execution_count": 142,
          "metadata": {},
          "output_type": "execute_result"
        }
      ],
      "source": [
        "df['AGE'].unique()"
      ]
    },
    {
      "cell_type": "code",
      "execution_count": null,
      "metadata": {
        "id": "14YOQhB8Aef8"
      },
      "outputs": [],
      "source": [
        "new_df = df[(df['RACE']=='(4) BLACK OR AFRICAN AMERICAN') & (df['NOPRIOR']=='(0) NO PRIOR TREATMENT EPISODES')].reset_index(drop=True)\n",
        "new_df.drop(['SUB2','ROUTE2','FREQ2','FRSTUSE2','SUB3','ROUTE3','FREQ3','FRSTUSE3','NOPRIOR','ETHNIC','RACE','STFIPS','Unnamed: 0'],axis=1, inplace=True)"
      ]
    },
    {
      "cell_type": "code",
      "execution_count": null,
      "metadata": {
        "id": "pEsuYhWbAef8",
        "outputId": "803bd9a2-6d7e-46e9-ae49-519556d95259"
      },
      "outputs": [
        {
          "data": {
            "text/plain": [
              "(125767, 21)"
            ]
          },
          "execution_count": 144,
          "metadata": {},
          "output_type": "execute_result"
        }
      ],
      "source": [
        "new_df.shape"
      ]
    },
    {
      "cell_type": "markdown",
      "metadata": {
        "id": "xLbFURzeAef9"
      },
      "source": [
        "# Check the percentage of missing values for each column"
      ]
    },
    {
      "cell_type": "code",
      "execution_count": null,
      "metadata": {
        "id": "W9yhS9keAef9",
        "outputId": "62e8b63d-a5bc-45b6-ac87-2a42adc3478f"
      },
      "outputs": [
        {
          "data": {
            "text/html": [
              "<div>\n",
              "<style scoped>\n",
              "    .dataframe tbody tr th:only-of-type {\n",
              "        vertical-align: middle;\n",
              "    }\n",
              "\n",
              "    .dataframe tbody tr th {\n",
              "        vertical-align: top;\n",
              "    }\n",
              "\n",
              "    .dataframe thead th {\n",
              "        text-align: right;\n",
              "    }\n",
              "</style>\n",
              "<table border=\"1\" class=\"dataframe\">\n",
              "  <thead>\n",
              "    <tr style=\"text-align: right;\">\n",
              "      <th></th>\n",
              "      <th>Column</th>\n",
              "      <th>Missing %</th>\n",
              "    </tr>\n",
              "  </thead>\n",
              "  <tbody>\n",
              "    <tr>\n",
              "      <th>20</th>\n",
              "      <td>HLTHINS</td>\n",
              "      <td>59.45</td>\n",
              "    </tr>\n",
              "    <tr>\n",
              "      <th>10</th>\n",
              "      <td>DAYWAIT</td>\n",
              "      <td>42.78</td>\n",
              "    </tr>\n",
              "    <tr>\n",
              "      <th>19</th>\n",
              "      <td>PSYPROB</td>\n",
              "      <td>16.21</td>\n",
              "    </tr>\n",
              "    <tr>\n",
              "      <th>2</th>\n",
              "      <td>MARSTAT</td>\n",
              "      <td>13.10</td>\n",
              "    </tr>\n",
              "    <tr>\n",
              "      <th>5</th>\n",
              "      <td>VET</td>\n",
              "      <td>10.36</td>\n",
              "    </tr>\n",
              "    <tr>\n",
              "      <th>9</th>\n",
              "      <td>METHUSE</td>\n",
              "      <td>5.45</td>\n",
              "    </tr>\n",
              "    <tr>\n",
              "      <th>17</th>\n",
              "      <td>FRSTUSE1</td>\n",
              "      <td>2.74</td>\n",
              "    </tr>\n",
              "    <tr>\n",
              "      <th>16</th>\n",
              "      <td>FREQ1</td>\n",
              "      <td>2.39</td>\n",
              "    </tr>\n",
              "    <tr>\n",
              "      <th>13</th>\n",
              "      <td>PSOURCE</td>\n",
              "      <td>1.74</td>\n",
              "    </tr>\n",
              "    <tr>\n",
              "      <th>15</th>\n",
              "      <td>ROUTE1</td>\n",
              "      <td>1.64</td>\n",
              "    </tr>\n",
              "  </tbody>\n",
              "</table>\n",
              "</div>"
            ],
            "text/plain": [
              "      Column  Missing %\n",
              "20   HLTHINS      59.45\n",
              "10   DAYWAIT      42.78\n",
              "19   PSYPROB      16.21\n",
              "2    MARSTAT      13.10\n",
              "5        VET      10.36\n",
              "9    METHUSE       5.45\n",
              "17  FRSTUSE1       2.74\n",
              "16     FREQ1       2.39\n",
              "13   PSOURCE       1.74\n",
              "15    ROUTE1       1.64"
            ]
          },
          "execution_count": 145,
          "metadata": {},
          "output_type": "execute_result"
        }
      ],
      "source": [
        "missing = {}\n",
        "for col in new_df.columns:\n",
        "    missing[col] = round((new_df[col].isna().sum()/len(new_df[col]))*100,2)\n",
        "missing_value = pd.DataFrame({'Column':missing.keys(),'Missing %':missing.values()}).sort_values(by='Missing %',ascending=False)\n",
        "missing_value.head(10)"
      ]
    },
    {
      "cell_type": "markdown",
      "metadata": {
        "id": "v26ILkVWAef9"
      },
      "source": [
        "**Drop the `HLTHINS` and `DAYWAIT` columns as they have missing values > 33%**"
      ]
    },
    {
      "cell_type": "code",
      "execution_count": null,
      "metadata": {
        "id": "c66ti-C7Aef-"
      },
      "outputs": [],
      "source": [
        "new_df.drop(['HLTHINS','DAYWAIT'], axis =1, inplace = True)\n",
        "new_df.dropna(inplace=True)"
      ]
    },
    {
      "cell_type": "code",
      "execution_count": null,
      "metadata": {
        "id": "r55B2EqJAef-",
        "outputId": "1dc4e949-57fa-4383-c5ba-1f7dcf81aaf9"
      },
      "outputs": [
        {
          "data": {
            "text/plain": [
              "(77606, 19)"
            ]
          },
          "execution_count": 147,
          "metadata": {},
          "output_type": "execute_result"
        }
      ],
      "source": [
        "new_df.shape"
      ]
    },
    {
      "cell_type": "markdown",
      "metadata": {
        "id": "UITBh0MTAef-"
      },
      "source": [
        "# Data preprocessing"
      ]
    },
    {
      "cell_type": "code",
      "execution_count": null,
      "metadata": {
        "id": "fBxy0_1cAef_"
      },
      "outputs": [],
      "source": [
        "for col in new_df.columns:\n",
        "    if new_df[col].dtype == 'float64':\n",
        "        continue\n",
        "    new_df[col] = new_df[col].str.lstrip('0123456789()')\n",
        "    new_df[col] = new_df[col].str.strip()"
      ]
    },
    {
      "cell_type": "code",
      "execution_count": null,
      "metadata": {
        "id": "93HQslvMAef_",
        "outputId": "12369566-83a1-4d0c-f659-5e7ee01ead4b"
      },
      "outputs": [
        {
          "data": {
            "text/html": [
              "<div>\n",
              "<style scoped>\n",
              "    .dataframe tbody tr th:only-of-type {\n",
              "        vertical-align: middle;\n",
              "    }\n",
              "\n",
              "    .dataframe tbody tr th {\n",
              "        vertical-align: top;\n",
              "    }\n",
              "\n",
              "    .dataframe thead th {\n",
              "        text-align: right;\n",
              "    }\n",
              "</style>\n",
              "<table border=\"1\" class=\"dataframe\">\n",
              "  <thead>\n",
              "    <tr style=\"text-align: right;\">\n",
              "      <th></th>\n",
              "      <th>AGE</th>\n",
              "      <th>GENDER</th>\n",
              "      <th>MARSTAT</th>\n",
              "      <th>EDUC</th>\n",
              "      <th>EMPLOY</th>\n",
              "      <th>VET</th>\n",
              "      <th>LIVARAG</th>\n",
              "      <th>ARRESTS</th>\n",
              "      <th>REGION</th>\n",
              "      <th>METHUSE</th>\n",
              "      <th>REASON</th>\n",
              "      <th>LOS</th>\n",
              "      <th>PSOURCE</th>\n",
              "      <th>SUB1</th>\n",
              "      <th>ROUTE1</th>\n",
              "      <th>FREQ1</th>\n",
              "      <th>FRSTUSE1</th>\n",
              "      <th>ALCDRUG</th>\n",
              "      <th>PSYPROB</th>\n",
              "    </tr>\n",
              "  </thead>\n",
              "  <tbody>\n",
              "    <tr>\n",
              "      <th>1</th>\n",
              "      <td>40-44</td>\n",
              "      <td>MALE</td>\n",
              "      <td>DIVORCED, WIDOWED</td>\n",
              "      <td>8 YEARS OR LESS</td>\n",
              "      <td>UNEMPLOYED</td>\n",
              "      <td>NO</td>\n",
              "      <td>DEPENDENT LIVING</td>\n",
              "      <td>NONE</td>\n",
              "      <td>MIDWEST</td>\n",
              "      <td>NO</td>\n",
              "      <td>OTHER</td>\n",
              "      <td>32.0</td>\n",
              "      <td>COURT / CRIMINAL JUSTICE REFERRAL / DUI/DWI</td>\n",
              "      <td>ALCOHOL</td>\n",
              "      <td>ORAL</td>\n",
              "      <td>DAILY</td>\n",
              "      <td>11 AND UNDER</td>\n",
              "      <td>ALCOHOL AND OTHER DRUGS</td>\n",
              "      <td>NO</td>\n",
              "    </tr>\n",
              "    <tr>\n",
              "      <th>2</th>\n",
              "      <td>45-49</td>\n",
              "      <td>MALE</td>\n",
              "      <td>DIVORCED, WIDOWED</td>\n",
              "      <td>12</td>\n",
              "      <td>NOT IN LABOR FORCE</td>\n",
              "      <td>NO</td>\n",
              "      <td>DEPENDENT LIVING</td>\n",
              "      <td>NONE</td>\n",
              "      <td>MIDWEST</td>\n",
              "      <td>NO</td>\n",
              "      <td>TRANSFERRED TO ANOTHER TREATMENT PROGRAM OR FA...</td>\n",
              "      <td>31.0</td>\n",
              "      <td>COURT / CRIMINAL JUSTICE REFERRAL / DUI/DWI</td>\n",
              "      <td>COCAINE/CRACK</td>\n",
              "      <td>SMOKING</td>\n",
              "      <td>DAILY</td>\n",
              "      <td>25-29</td>\n",
              "      <td>ALCOHOL AND OTHER DRUGS</td>\n",
              "      <td>NO</td>\n",
              "    </tr>\n",
              "    <tr>\n",
              "      <th>4</th>\n",
              "      <td>35-39</td>\n",
              "      <td>MALE</td>\n",
              "      <td>SEPARATED</td>\n",
              "      <td>12</td>\n",
              "      <td>UNEMPLOYED</td>\n",
              "      <td>NO</td>\n",
              "      <td>DEPENDENT LIVING</td>\n",
              "      <td>NONE</td>\n",
              "      <td>MIDWEST</td>\n",
              "      <td>NO</td>\n",
              "      <td>TERMINATED BY FACILITY</td>\n",
              "      <td>35.0</td>\n",
              "      <td>INDIVIDUAL (INCLUDES SELF-REFERRAL)</td>\n",
              "      <td>HEROIN</td>\n",
              "      <td>INHALATION</td>\n",
              "      <td>DAILY</td>\n",
              "      <td>15-17</td>\n",
              "      <td>OTHER DRUGS ONLY</td>\n",
              "      <td>YES</td>\n",
              "    </tr>\n",
              "  </tbody>\n",
              "</table>\n",
              "</div>"
            ],
            "text/plain": [
              "     AGE GENDER            MARSTAT             EDUC              EMPLOY VET  \\\n",
              "1  40-44   MALE  DIVORCED, WIDOWED  8 YEARS OR LESS          UNEMPLOYED  NO   \n",
              "2  45-49   MALE  DIVORCED, WIDOWED               12  NOT IN LABOR FORCE  NO   \n",
              "4  35-39   MALE          SEPARATED               12          UNEMPLOYED  NO   \n",
              "\n",
              "            LIVARAG ARRESTS   REGION METHUSE  \\\n",
              "1  DEPENDENT LIVING    NONE  MIDWEST      NO   \n",
              "2  DEPENDENT LIVING    NONE  MIDWEST      NO   \n",
              "4  DEPENDENT LIVING    NONE  MIDWEST      NO   \n",
              "\n",
              "                                              REASON   LOS  \\\n",
              "1                                              OTHER  32.0   \n",
              "2  TRANSFERRED TO ANOTHER TREATMENT PROGRAM OR FA...  31.0   \n",
              "4                             TERMINATED BY FACILITY  35.0   \n",
              "\n",
              "                                       PSOURCE           SUB1      ROUTE1  \\\n",
              "1  COURT / CRIMINAL JUSTICE REFERRAL / DUI/DWI        ALCOHOL        ORAL   \n",
              "2  COURT / CRIMINAL JUSTICE REFERRAL / DUI/DWI  COCAINE/CRACK     SMOKING   \n",
              "4          INDIVIDUAL (INCLUDES SELF-REFERRAL)         HEROIN  INHALATION   \n",
              "\n",
              "   FREQ1      FRSTUSE1                  ALCDRUG PSYPROB  \n",
              "1  DAILY  11 AND UNDER  ALCOHOL AND OTHER DRUGS      NO  \n",
              "2  DAILY         25-29  ALCOHOL AND OTHER DRUGS      NO  \n",
              "4  DAILY         15-17         OTHER DRUGS ONLY     YES  "
            ]
          },
          "execution_count": 149,
          "metadata": {},
          "output_type": "execute_result"
        }
      ],
      "source": [
        "new_df.head(3)"
      ]
    },
    {
      "cell_type": "code",
      "execution_count": null,
      "metadata": {
        "id": "Ay5ox2IQAef_"
      },
      "outputs": [],
      "source": [
        "unique = {}\n",
        "for col in new_df.columns:\n",
        "    if new_df[col].dtype == 'float64':\n",
        "        pass\n",
        "    else:\n",
        "        unique[col] = new_df[col].unique()"
      ]
    },
    {
      "cell_type": "markdown",
      "metadata": {
        "id": "v_eN1E9LAegA"
      },
      "source": [
        "**Recategorizing the categorical variables**"
      ]
    },
    {
      "cell_type": "code",
      "execution_count": null,
      "metadata": {
        "id": "v1PUnuWpAegA"
      },
      "outputs": [],
      "source": [
        "education = {'8 YEARS OR LESS':'8th GRADE & LESS',\n",
        "             '9-11':'9TH GRADE',\n",
        "             '12':'12th GRADE',\n",
        "             '13-15':'ASSOCIATE DEGREE',\n",
        "             '16 OR MORE': 'BACHELOR DEGREE & HIGHER'}\n",
        "route = ['ORAL','SMOKING', 'INHALATION','OTHER','INJECTION (IV OR INTRAMUSCULAR)']\n",
        "reason = ['TREATMENT COMPLETED']\n",
        "past_30_days_use = {'DAILY':'DAILY',\n",
        "                    'NO USE IN THE PAST MONTH': 'NOT IN THE PAST MONTH',\n",
        "                    '1-3 TIMES IN THE PAST MONTH': '1-3 TIMES PAST MONTH',\n",
        "                    '3-6 TIMES IN THE PAST WEEK':'3-6 TIMES PAST WEEK',\n",
        "                    '1-2 TIMES IN THE PAST WEEK':'1-2 TIMES PAST WEEK'}\n",
        "referral = {'INDIVIDUAL (INCLUDES SELF-REFERRAL)':'SELF',\n",
        "       'COURT / CRIMINAL JUSTICE REFERRAL / DUI/DWI':'COURT',\n",
        "       'OTHER COMMUNITY REFERRAL':'COMMUNITY REFERRAL',\n",
        "       'OTHER HEALTH CARE PROVIDER':'HEALTH CARE',\n",
        "       'ALCOHOL/DRUG ABUSE CARE PROVIDER':'ALCOHOL/DRUG ABUSE CARE', \n",
        "       'SCHOOL (EDUCATIONAL)':'SCHOOL',\n",
        "       'EMPLOYER/EAP':'EMPLOYER'}\n",
        "arrests = {'NONE':'0',\n",
        "           'ONCE':'1',\n",
        "           '2 OR MORE TIMES':'2 OR MORE'}\n",
        "subtance = {'OTHER DRUGS ONLY':'DRUGS',\n",
        "              'ALCOHOL AND OTHER DRUGS':'ALCOHOL AND DRUGS',\n",
        "              'ALCOHOL ONLY':'ALCOHOL'}"
      ]
    },
    {
      "cell_type": "code",
      "execution_count": null,
      "metadata": {
        "id": "f2JyurH5AegB"
      },
      "outputs": [],
      "source": [
        "def subtance_type(x):\n",
        "    subtances = ['ALCOHOL','COCAINE/CRACK','MARIJUANA/HASHISH','HEROIN','METHAMPHETAMINE']\n",
        "    if x in subtances:\n",
        "        return x \n",
        "    else:\n",
        "        return 'OTHERS'"
      ]
    },
    {
      "cell_type": "code",
      "execution_count": null,
      "metadata": {
        "id": "uofmOr2eAegB"
      },
      "outputs": [],
      "source": [
        "def sud_route(route):\n",
        "    if route == 'INJECTION (IV OR INTRAMUSCULAR)':\n",
        "        return 'INJECTION'\n",
        "    else:\n",
        "        return route"
      ]
    },
    {
      "cell_type": "code",
      "execution_count": null,
      "metadata": {
        "id": "wKk1GtPsAegC"
      },
      "outputs": [],
      "source": [
        "def length_of_stay(los):\n",
        "    if los<=30:\n",
        "        return los\n",
        "    elif los==31:\n",
        "        return '31-45'\n",
        "    elif los==32:\n",
        "        return '46-60'\n",
        "    elif los==33:\n",
        "        return '61-90'\n",
        "    elif los==34:\n",
        "        return '91-120'\n",
        "    elif los==35:\n",
        "        return '121-180'\n",
        "    elif los>=36:\n",
        "        return '121 OR LONGER'"
      ]
    },
    {
      "cell_type": "code",
      "execution_count": null,
      "metadata": {
        "id": "K6lSokeyAegC"
      },
      "outputs": [],
      "source": [
        "def age_group(age):\n",
        "    if age in ['12-14','15-17']:\n",
        "        return '12-17'\n",
        "    elif age in ['18-20','21-24']:\n",
        "        return '18-24'\n",
        "    elif age in ['25-29','30-34']:\n",
        "        return '25-34'\n",
        "    elif age in ['35-39','40-44']:\n",
        "        return '35-44'\n",
        "    elif age in ['45-49','50-54']:\n",
        "        return '45-54'\n",
        "    else:\n",
        "        return age"
      ]
    },
    {
      "cell_type": "markdown",
      "metadata": {
        "id": "FrDMPS-iAegC"
      },
      "source": [
        "**Applying transformation on the columns to recategorized the variables**"
      ]
    },
    {
      "cell_type": "code",
      "execution_count": null,
      "metadata": {
        "id": "RmybGO-hAegC"
      },
      "outputs": [],
      "source": [
        "new_df['EDUC'] = new_df['EDUC'].map(education)\n",
        "new_df['SUB1'] = new_df['SUB1'].apply(subtance_type)\n",
        "new_df['ROUTE1'] = new_df['ROUTE1'].apply(sud_route)\n",
        "new_df['FREQ1'] = new_df['FREQ1'].map(past_30_days_use)\n",
        "new_df['REASON'] = new_df['REASON'].apply(lambda x: 'SUCCESS' if x =='TREATMENT COMPLETED' else 'FAILURE')\n",
        "new_df['PSOURCE'] = new_df['PSOURCE'].map(referral)\n",
        "new_df['ARRESTS'] = new_df['ARRESTS'].map(arrests)\n",
        "new_df['LOS'] = new_df['LOS'].apply(length_of_stay)\n",
        "new_df['ALCDRUG']= new_df['ALCDRUG'].map(subtance)\n",
        "new_df['AGE'] = new_df['AGE'].apply(age_group)\n",
        "new_df['FRSTUSE1'] = new_df['FRSTUSE1'].apply(age_group)"
      ]
    },
    {
      "cell_type": "code",
      "execution_count": null,
      "metadata": {
        "id": "8JlCh0qWAegD",
        "outputId": "582d2dad-37f2-49f0-8070-871d4311cd44"
      },
      "outputs": [
        {
          "data": {
            "text/plain": [
              "(77606, 19)"
            ]
          },
          "execution_count": 157,
          "metadata": {},
          "output_type": "execute_result"
        }
      ],
      "source": [
        "new_df.shape"
      ]
    },
    {
      "cell_type": "markdown",
      "metadata": {
        "id": "JXVyCAV8AegD"
      },
      "source": [
        "<!-- **Drop the old columns and rows with missing values**  -->\n",
        "**New dataframe after recategorizing the variables**"
      ]
    },
    {
      "cell_type": "code",
      "execution_count": null,
      "metadata": {
        "id": "cjpFnzLVAegD",
        "outputId": "cec1571c-5b89-4bb5-ffe9-4979d668c3d9"
      },
      "outputs": [
        {
          "data": {
            "text/html": [
              "<div>\n",
              "<style scoped>\n",
              "    .dataframe tbody tr th:only-of-type {\n",
              "        vertical-align: middle;\n",
              "    }\n",
              "\n",
              "    .dataframe tbody tr th {\n",
              "        vertical-align: top;\n",
              "    }\n",
              "\n",
              "    .dataframe thead th {\n",
              "        text-align: right;\n",
              "    }\n",
              "</style>\n",
              "<table border=\"1\" class=\"dataframe\">\n",
              "  <thead>\n",
              "    <tr style=\"text-align: right;\">\n",
              "      <th></th>\n",
              "      <th>AGE</th>\n",
              "      <th>GENDER</th>\n",
              "      <th>MARSTAT</th>\n",
              "      <th>EDUC</th>\n",
              "      <th>EMPLOY</th>\n",
              "      <th>VET</th>\n",
              "      <th>LIVARAG</th>\n",
              "      <th>ARRESTS</th>\n",
              "      <th>REGION</th>\n",
              "      <th>METHUSE</th>\n",
              "      <th>REASON</th>\n",
              "      <th>LOS</th>\n",
              "      <th>PSOURCE</th>\n",
              "      <th>SUB1</th>\n",
              "      <th>ROUTE1</th>\n",
              "      <th>FREQ1</th>\n",
              "      <th>FRSTUSE1</th>\n",
              "      <th>ALCDRUG</th>\n",
              "      <th>PSYPROB</th>\n",
              "    </tr>\n",
              "  </thead>\n",
              "  <tbody>\n",
              "    <tr>\n",
              "      <th>1</th>\n",
              "      <td>35-44</td>\n",
              "      <td>MALE</td>\n",
              "      <td>DIVORCED, WIDOWED</td>\n",
              "      <td>8th GRADE &amp; LESS</td>\n",
              "      <td>UNEMPLOYED</td>\n",
              "      <td>NO</td>\n",
              "      <td>DEPENDENT LIVING</td>\n",
              "      <td>0</td>\n",
              "      <td>MIDWEST</td>\n",
              "      <td>NO</td>\n",
              "      <td>FAILURE</td>\n",
              "      <td>46-60</td>\n",
              "      <td>COURT</td>\n",
              "      <td>ALCOHOL</td>\n",
              "      <td>ORAL</td>\n",
              "      <td>DAILY</td>\n",
              "      <td>11 AND UNDER</td>\n",
              "      <td>ALCOHOL AND DRUGS</td>\n",
              "      <td>NO</td>\n",
              "    </tr>\n",
              "    <tr>\n",
              "      <th>2</th>\n",
              "      <td>45-54</td>\n",
              "      <td>MALE</td>\n",
              "      <td>DIVORCED, WIDOWED</td>\n",
              "      <td>12th GRADE</td>\n",
              "      <td>NOT IN LABOR FORCE</td>\n",
              "      <td>NO</td>\n",
              "      <td>DEPENDENT LIVING</td>\n",
              "      <td>0</td>\n",
              "      <td>MIDWEST</td>\n",
              "      <td>NO</td>\n",
              "      <td>FAILURE</td>\n",
              "      <td>31-45</td>\n",
              "      <td>COURT</td>\n",
              "      <td>COCAINE/CRACK</td>\n",
              "      <td>SMOKING</td>\n",
              "      <td>DAILY</td>\n",
              "      <td>25-34</td>\n",
              "      <td>ALCOHOL AND DRUGS</td>\n",
              "      <td>NO</td>\n",
              "    </tr>\n",
              "    <tr>\n",
              "      <th>4</th>\n",
              "      <td>35-44</td>\n",
              "      <td>MALE</td>\n",
              "      <td>SEPARATED</td>\n",
              "      <td>12th GRADE</td>\n",
              "      <td>UNEMPLOYED</td>\n",
              "      <td>NO</td>\n",
              "      <td>DEPENDENT LIVING</td>\n",
              "      <td>0</td>\n",
              "      <td>MIDWEST</td>\n",
              "      <td>NO</td>\n",
              "      <td>FAILURE</td>\n",
              "      <td>121-180</td>\n",
              "      <td>SELF</td>\n",
              "      <td>HEROIN</td>\n",
              "      <td>INHALATION</td>\n",
              "      <td>DAILY</td>\n",
              "      <td>12-17</td>\n",
              "      <td>DRUGS</td>\n",
              "      <td>YES</td>\n",
              "    </tr>\n",
              "  </tbody>\n",
              "</table>\n",
              "</div>"
            ],
            "text/plain": [
              "     AGE GENDER            MARSTAT              EDUC              EMPLOY VET  \\\n",
              "1  35-44   MALE  DIVORCED, WIDOWED  8th GRADE & LESS          UNEMPLOYED  NO   \n",
              "2  45-54   MALE  DIVORCED, WIDOWED        12th GRADE  NOT IN LABOR FORCE  NO   \n",
              "4  35-44   MALE          SEPARATED        12th GRADE          UNEMPLOYED  NO   \n",
              "\n",
              "            LIVARAG ARRESTS   REGION METHUSE   REASON      LOS PSOURCE  \\\n",
              "1  DEPENDENT LIVING       0  MIDWEST      NO  FAILURE    46-60   COURT   \n",
              "2  DEPENDENT LIVING       0  MIDWEST      NO  FAILURE    31-45   COURT   \n",
              "4  DEPENDENT LIVING       0  MIDWEST      NO  FAILURE  121-180    SELF   \n",
              "\n",
              "            SUB1      ROUTE1  FREQ1      FRSTUSE1            ALCDRUG PSYPROB  \n",
              "1        ALCOHOL        ORAL  DAILY  11 AND UNDER  ALCOHOL AND DRUGS      NO  \n",
              "2  COCAINE/CRACK     SMOKING  DAILY         25-34  ALCOHOL AND DRUGS      NO  \n",
              "4         HEROIN  INHALATION  DAILY         12-17              DRUGS     YES  "
            ]
          },
          "execution_count": 158,
          "metadata": {},
          "output_type": "execute_result"
        }
      ],
      "source": [
        "new_df.head(3)"
      ]
    },
    {
      "cell_type": "code",
      "execution_count": null,
      "metadata": {
        "id": "PH1M9FrVAegE",
        "outputId": "06bbe557-bfc1-4bda-deea-061466aab038"
      },
      "outputs": [
        {
          "data": {
            "text/html": [
              "<div>\n",
              "<style scoped>\n",
              "    .dataframe tbody tr th:only-of-type {\n",
              "        vertical-align: middle;\n",
              "    }\n",
              "\n",
              "    .dataframe tbody tr th {\n",
              "        vertical-align: top;\n",
              "    }\n",
              "\n",
              "    .dataframe thead th {\n",
              "        text-align: right;\n",
              "    }\n",
              "</style>\n",
              "<table border=\"1\" class=\"dataframe\">\n",
              "  <thead>\n",
              "    <tr style=\"text-align: right;\">\n",
              "      <th></th>\n",
              "      <th>count</th>\n",
              "      <th>unique</th>\n",
              "      <th>top</th>\n",
              "      <th>freq</th>\n",
              "    </tr>\n",
              "  </thead>\n",
              "  <tbody>\n",
              "    <tr>\n",
              "      <th>AGE</th>\n",
              "      <td>77606</td>\n",
              "      <td>6</td>\n",
              "      <td>25-34</td>\n",
              "      <td>19886</td>\n",
              "    </tr>\n",
              "    <tr>\n",
              "      <th>GENDER</th>\n",
              "      <td>77606</td>\n",
              "      <td>2</td>\n",
              "      <td>MALE</td>\n",
              "      <td>57160</td>\n",
              "    </tr>\n",
              "    <tr>\n",
              "      <th>MARSTAT</th>\n",
              "      <td>77606</td>\n",
              "      <td>4</td>\n",
              "      <td>NEVER MARRIED</td>\n",
              "      <td>59132</td>\n",
              "    </tr>\n",
              "    <tr>\n",
              "      <th>EDUC</th>\n",
              "      <td>77606</td>\n",
              "      <td>5</td>\n",
              "      <td>9TH GRADE</td>\n",
              "      <td>29578</td>\n",
              "    </tr>\n",
              "    <tr>\n",
              "      <th>EMPLOY</th>\n",
              "      <td>77606</td>\n",
              "      <td>4</td>\n",
              "      <td>UNEMPLOYED</td>\n",
              "      <td>34561</td>\n",
              "    </tr>\n",
              "    <tr>\n",
              "      <th>VET</th>\n",
              "      <td>77606</td>\n",
              "      <td>2</td>\n",
              "      <td>NO</td>\n",
              "      <td>75410</td>\n",
              "    </tr>\n",
              "    <tr>\n",
              "      <th>LIVARAG</th>\n",
              "      <td>77606</td>\n",
              "      <td>3</td>\n",
              "      <td>INDEPENDENT LIVING</td>\n",
              "      <td>51557</td>\n",
              "    </tr>\n",
              "    <tr>\n",
              "      <th>ARRESTS</th>\n",
              "      <td>77606</td>\n",
              "      <td>3</td>\n",
              "      <td>0</td>\n",
              "      <td>71128</td>\n",
              "    </tr>\n",
              "    <tr>\n",
              "      <th>REGION</th>\n",
              "      <td>77606</td>\n",
              "      <td>5</td>\n",
              "      <td>SOUTH</td>\n",
              "      <td>30976</td>\n",
              "    </tr>\n",
              "    <tr>\n",
              "      <th>METHUSE</th>\n",
              "      <td>77606</td>\n",
              "      <td>2</td>\n",
              "      <td>NO</td>\n",
              "      <td>75836</td>\n",
              "    </tr>\n",
              "    <tr>\n",
              "      <th>REASON</th>\n",
              "      <td>77606</td>\n",
              "      <td>2</td>\n",
              "      <td>FAILURE</td>\n",
              "      <td>50622</td>\n",
              "    </tr>\n",
              "    <tr>\n",
              "      <th>LOS</th>\n",
              "      <td>77606</td>\n",
              "      <td>36</td>\n",
              "      <td>121 OR LONGER</td>\n",
              "      <td>13591</td>\n",
              "    </tr>\n",
              "    <tr>\n",
              "      <th>PSOURCE</th>\n",
              "      <td>77606</td>\n",
              "      <td>7</td>\n",
              "      <td>COURT</td>\n",
              "      <td>36318</td>\n",
              "    </tr>\n",
              "    <tr>\n",
              "      <th>SUB1</th>\n",
              "      <td>77606</td>\n",
              "      <td>6</td>\n",
              "      <td>MARIJUANA/HASHISH</td>\n",
              "      <td>34862</td>\n",
              "    </tr>\n",
              "    <tr>\n",
              "      <th>ROUTE1</th>\n",
              "      <td>77606</td>\n",
              "      <td>5</td>\n",
              "      <td>SMOKING</td>\n",
              "      <td>42237</td>\n",
              "    </tr>\n",
              "    <tr>\n",
              "      <th>FREQ1</th>\n",
              "      <td>77606</td>\n",
              "      <td>5</td>\n",
              "      <td>DAILY</td>\n",
              "      <td>23983</td>\n",
              "    </tr>\n",
              "    <tr>\n",
              "      <th>FRSTUSE1</th>\n",
              "      <td>77606</td>\n",
              "      <td>7</td>\n",
              "      <td>12-17</td>\n",
              "      <td>41364</td>\n",
              "    </tr>\n",
              "    <tr>\n",
              "      <th>ALCDRUG</th>\n",
              "      <td>77606</td>\n",
              "      <td>3</td>\n",
              "      <td>DRUGS</td>\n",
              "      <td>36113</td>\n",
              "    </tr>\n",
              "    <tr>\n",
              "      <th>PSYPROB</th>\n",
              "      <td>77606</td>\n",
              "      <td>2</td>\n",
              "      <td>NO</td>\n",
              "      <td>61665</td>\n",
              "    </tr>\n",
              "  </tbody>\n",
              "</table>\n",
              "</div>"
            ],
            "text/plain": [
              "          count unique                 top   freq\n",
              "AGE       77606      6               25-34  19886\n",
              "GENDER    77606      2                MALE  57160\n",
              "MARSTAT   77606      4       NEVER MARRIED  59132\n",
              "EDUC      77606      5           9TH GRADE  29578\n",
              "EMPLOY    77606      4          UNEMPLOYED  34561\n",
              "VET       77606      2                  NO  75410\n",
              "LIVARAG   77606      3  INDEPENDENT LIVING  51557\n",
              "ARRESTS   77606      3                   0  71128\n",
              "REGION    77606      5               SOUTH  30976\n",
              "METHUSE   77606      2                  NO  75836\n",
              "REASON    77606      2             FAILURE  50622\n",
              "LOS       77606     36       121 OR LONGER  13591\n",
              "PSOURCE   77606      7               COURT  36318\n",
              "SUB1      77606      6   MARIJUANA/HASHISH  34862\n",
              "ROUTE1    77606      5             SMOKING  42237\n",
              "FREQ1     77606      5               DAILY  23983\n",
              "FRSTUSE1  77606      7               12-17  41364\n",
              "ALCDRUG   77606      3               DRUGS  36113\n",
              "PSYPROB   77606      2                  NO  61665"
            ]
          },
          "execution_count": 160,
          "metadata": {},
          "output_type": "execute_result"
        }
      ],
      "source": [
        "new_df.describe().T"
      ]
    },
    {
      "cell_type": "code",
      "execution_count": null,
      "metadata": {
        "id": "8bL63UeaAegF"
      },
      "outputs": [],
      "source": [
        "final = new_df.copy()\n",
        "final.to_csv('final.csv',index=False)"
      ]
    },
    {
      "cell_type": "markdown",
      "metadata": {
        "id": "7amTuwvNAegF"
      },
      "source": [
        "################################################################################################################"
      ]
    },
    {
      "cell_type": "code",
      "execution_count": 1,
      "metadata": {
        "id": "g1HXS2W_AegG"
      },
      "outputs": [],
      "source": [
        "# Data Analysis\n",
        "import pandas as pd\n",
        "import numpy as np\n",
        "import matplotlib.pyplot as plt\n",
        "import matplotlib.pyplot as plt\n",
        "import seaborn as sns\n",
        "\n",
        "\n",
        "# Dataset Preprocesssing\n",
        "from sklearn.compose import ColumnTransformer\n",
        "from sklearn.preprocessing import OneHotEncoder\n",
        "# from sklearn.base import BaseEstimator, TransformerMixin\n",
        "from sklearn.pipeline import Pipeline\n",
        "\n",
        "# ML Libraries\n",
        "from sklearn.linear_model import LogisticRegression\n",
        "from sklearn.neighbors import KNeighborsClassifier\n",
        "from sklearn.ensemble import RandomForestClassifier\n",
        "from sklearn.naive_bayes import GaussianNB\n",
        "from xgboost import XGBClassifier\n",
        "\n",
        "# FeatureHasher\n",
        "# Model Evaluations\n",
        "from sklearn.feature_selection import f_classif,SelectKBest\n",
        "from sklearn.model_selection import train_test_split,cross_val_score,learning_curve\n",
        "from sklearn.model_selection import RandomizedSearchCV , GridSearchCV\n",
        "from sklearn.compose import make_column_selector as selector\n",
        "from sklearn.metrics import accuracy_score,precision_score,recall_score,classification_report\n",
        "from sklearn.metrics import confusion_matrix,plot_roc_curve,ConfusionMatrixDisplay,RocCurveDisplay,roc_curve,auc\n",
        "\n",
        "import pandas as pd\n",
        "import numpy as np\n",
        "\n",
        "import warnings\n",
        "warnings.filterwarnings('ignore')\n",
        "plt.style.use('ggplot')\n",
        "# sns.set_theme(palette='winter') #style=\"whitegrid\""
      ]
    },
    {
      "cell_type": "code",
      "execution_count": 2,
      "metadata": {
        "id": "STfkHqqUAegG"
      },
      "outputs": [],
      "source": [
        "final = pd.read_csv('final.csv')"
      ]
    },
    {
      "cell_type": "code",
      "execution_count": null,
      "metadata": {
        "id": "1QLi3KE4AegG"
      },
      "outputs": [],
      "source": [
        "uniquecount = {}\n",
        "uniqueratio = {}\n",
        "for col in final.columns:\n",
        "    uniquecount[col] = final[col].value_counts()\n",
        "    uniqueratio[col] = final[col].value_counts(normalize=True).mul(100)"
      ]
    },
    {
      "cell_type": "markdown",
      "metadata": {
        "id": "T4-XkvtMAegH"
      },
      "source": [
        "# EDA"
      ]
    },
    {
      "cell_type": "code",
      "execution_count": 4,
      "metadata": {
        "colab": {
          "base_uri": "https://localhost:8080/",
          "height": 480
        },
        "id": "32rCbNJnAegH",
        "outputId": "8478ae21-6792-45d9-8816-cd8f77b0afa8"
      },
      "outputs": [
        {
          "output_type": "error",
          "ename": "AttributeError",
          "evalue": "ignored",
          "traceback": [
            "\u001b[0;31m---------------------------------------------------------------------------\u001b[0m",
            "\u001b[0;31mAttributeError\u001b[0m                            Traceback (most recent call last)",
            "\u001b[0;32m<ipython-input-4-5ea6c3b6dd04>\u001b[0m in \u001b[0;36m<module>\u001b[0;34m\u001b[0m\n\u001b[1;32m      9\u001b[0m \u001b[0;32mfor\u001b[0m \u001b[0mindex\u001b[0m \u001b[0;32min\u001b[0m \u001b[0mrange\u001b[0m\u001b[0;34m(\u001b[0m\u001b[0;36m4\u001b[0m\u001b[0;34m)\u001b[0m\u001b[0;34m:\u001b[0m\u001b[0;34m\u001b[0m\u001b[0;34m\u001b[0m\u001b[0m\n\u001b[1;32m     10\u001b[0m     \u001b[0;32mfor\u001b[0m \u001b[0mlabels\u001b[0m \u001b[0;32min\u001b[0m \u001b[0max\u001b[0m\u001b[0;34m[\u001b[0m\u001b[0mindex\u001b[0m\u001b[0;34m]\u001b[0m\u001b[0;34m.\u001b[0m\u001b[0mcontainers\u001b[0m\u001b[0;34m:\u001b[0m\u001b[0;34m\u001b[0m\u001b[0;34m\u001b[0m\u001b[0m\n\u001b[0;32m---> 11\u001b[0;31m         \u001b[0max\u001b[0m\u001b[0;34m[\u001b[0m\u001b[0mindex\u001b[0m\u001b[0;34m]\u001b[0m\u001b[0;34m.\u001b[0m\u001b[0mbar_label\u001b[0m\u001b[0;34m(\u001b[0m\u001b[0mlabels\u001b[0m\u001b[0;34m)\u001b[0m\u001b[0;34m\u001b[0m\u001b[0;34m\u001b[0m\u001b[0m\n\u001b[0m",
            "\u001b[0;31mAttributeError\u001b[0m: 'AxesSubplot' object has no attribute 'bar_label'"
          ]
        },
        {
          "output_type": "display_data",
          "data": {
            "text/plain": [
              "<Figure size 1728x504 with 4 Axes>"
            ],
            "image/png": "[encoded data removed]"
          },
          "metadata": {}
        }
      ],
      "source": [
        "fig, ax = plt.subplots(ncols=4,figsize=(24,7))\n",
        "sns.countplot(data=final,x='GENDER',hue='REASON',ax=ax[0])\n",
        "sns.countplot(data=final,x='EDUC',hue='REASON',ax=ax[1])\n",
        "sns.countplot(data=final,x='REGION',hue='REASON',ax=ax[2])\n",
        "sns.countplot(data=final,x='AGE',hue='REASON',ax=ax[3])\n",
        "\n",
        "ax[1].set_xticklabels(ax[1].get_xticklabels(),rotation=45, ha='right')\n",
        "fig.tight_layout()\n",
        "for index in range(4):\n",
        "    for labels in ax[index].containers:\n",
        "        ax[index].bar_label(labels)"
      ]
    },
    {
      "cell_type": "code",
      "execution_count": 5,
      "metadata": {
        "colab": {
          "base_uri": "https://localhost:8080/",
          "height": 430
        },
        "id": "kuSdM4TwAegH",
        "outputId": "c3577466-ebb3-471c-cf20-e21097002b19"
      },
      "outputs": [
        {
          "output_type": "error",
          "ename": "AttributeError",
          "evalue": "ignored",
          "traceback": [
            "\u001b[0;31m---------------------------------------------------------------------------\u001b[0m",
            "\u001b[0;31mAttributeError\u001b[0m                            Traceback (most recent call last)",
            "\u001b[0;32m<ipython-input-5-7c6f7e6532e7>\u001b[0m in \u001b[0;36m<module>\u001b[0;34m\u001b[0m\n\u001b[1;32m      9\u001b[0m \u001b[0;32mfor\u001b[0m \u001b[0mindex\u001b[0m \u001b[0;32min\u001b[0m \u001b[0mrange\u001b[0m\u001b[0;34m(\u001b[0m\u001b[0;36m3\u001b[0m\u001b[0;34m)\u001b[0m\u001b[0;34m:\u001b[0m\u001b[0;34m\u001b[0m\u001b[0;34m\u001b[0m\u001b[0m\n\u001b[1;32m     10\u001b[0m     \u001b[0;32mfor\u001b[0m \u001b[0mlabels\u001b[0m \u001b[0;32min\u001b[0m \u001b[0max\u001b[0m\u001b[0;34m[\u001b[0m\u001b[0mindex\u001b[0m\u001b[0;34m]\u001b[0m\u001b[0;34m.\u001b[0m\u001b[0mcontainers\u001b[0m\u001b[0;34m:\u001b[0m\u001b[0;34m\u001b[0m\u001b[0;34m\u001b[0m\u001b[0m\n\u001b[0;32m---> 11\u001b[0;31m         \u001b[0max\u001b[0m\u001b[0;34m[\u001b[0m\u001b[0mindex\u001b[0m\u001b[0;34m]\u001b[0m\u001b[0;34m.\u001b[0m\u001b[0mbar_label\u001b[0m\u001b[0;34m(\u001b[0m\u001b[0mlabels\u001b[0m\u001b[0;34m)\u001b[0m\u001b[0;34m\u001b[0m\u001b[0;34m\u001b[0m\u001b[0m\n\u001b[0m",
            "\u001b[0;31mAttributeError\u001b[0m: 'AxesSubplot' object has no attribute 'bar_label'"
          ]
        },
        {
          "output_type": "display_data",
          "data": {
            "text/plain": [
              "<Figure size 1800x432 with 3 Axes>"
            ],
            "image/png": "[encoded data removed]"
          },
          "metadata": {}
        }
      ],
      "source": [
        "fig, ax = plt.subplots(ncols=3,figsize=(25,6))\n",
        "sns.countplot(data=final,x='MARSTAT',hue='REASON',ax=ax[0])\n",
        "sns.countplot(data=final,x='EMPLOY',hue='REASON',ax=ax[1])\n",
        "sns.countplot(data=final,x='SUB1',hue='REASON',ax=ax[2])\n",
        "\n",
        "ax[2].set_xticklabels(ax[2].get_xticklabels(),rotation=45, ha='right')\n",
        "fig.tight_layout()\n",
        "\n",
        "for index in range(3):\n",
        "    for labels in ax[index].containers:\n",
        "        ax[index].bar_label(labels)"
      ]
    },
    {
      "cell_type": "markdown",
      "metadata": {
        "id": "9niff6SHAegI"
      },
      "source": [
        "# Preparing the data for machine learning:\n",
        "* 1) recategorize the categorical columns"
      ]
    },
    {
      "cell_type": "code",
      "execution_count": 6,
      "metadata": {
        "id": "tKjK4oTgAegI"
      },
      "outputs": [],
      "source": [
        "mapper = {'AGE': {'12-17':2,'18-24':3, '25-34':4,'35-44':5, '45-54':6,'55 AND OVER':7},\n",
        "          'EDUC' : {'8th GRADE & LESS':1,'9TH GRADE':2, '12th GRADE':3,  'ASSOCIATE DEGREE':4,'BACHELOR DEGREE & HIGHER':5},\n",
        "          'ARRESTS' : {'0':0, '1':1, '2 OR MORE':2},\n",
        "          'REASON' : {'FAILURE':0, 'SUCCESS':1},\n",
        "          'FREQ1' : {'NOT IN THE PAST MONTH':1, '1-3 TIMES PAST MONTH':2,'3-6 TIMES PAST WEEK':3, '1-2 TIMES PAST WEEK':4,'DAILY':5},\n",
        "          'FRSTUSE1' :  {'11 AND UNDER':1,'12-17':2,'18-24':3,'25-34':4,'35-44':5, '45-54':6,'55 AND OVER':7}}\n",
        "los = { '31-45':31,'46-60':32,'61-90':33,'91-120':34,'121-180':35,'121 OR LONGER':36}"
      ]
    },
    {
      "cell_type": "code",
      "execution_count": 7,
      "metadata": {
        "id": "kJRTZ6vGAegI"
      },
      "outputs": [],
      "source": [
        "columns = ['AGE','SUB1','ALCDRUG','MARSTAT','LIVARAG','EMPLOY','ARRESTS','REGION','VET','METHUSE','EDUC','ROUTE1','FRSTUSE1','LOS','PSOURCE']\n",
        "ord_cat = ['AGE','EDUC','ARRESTS','REASON','FREQ1','FRSTUSE1']"
      ]
    },
    {
      "cell_type": "code",
      "execution_count": 8,
      "metadata": {
        "id": "X08e1x2uAegJ"
      },
      "outputs": [],
      "source": [
        "for columns in ord_cat:\n",
        "    final[columns] = final[columns].map(mapper[columns])"
      ]
    },
    {
      "cell_type": "code",
      "execution_count": 9,
      "metadata": {
        "id": "rXtVCOeZAegJ"
      },
      "outputs": [],
      "source": [
        "final['LOS'] = final['LOS'].apply(lambda x: los[x] if x in los.keys() else x).astype('float')"
      ]
    },
    {
      "cell_type": "code",
      "execution_count": 10,
      "metadata": {
        "colab": {
          "base_uri": "https://localhost:8080/",
          "height": 294
        },
        "id": "aQ1Z9cMBAegK",
        "outputId": "59cb8718-e397-4e4b-dd55-d581ec01d252"
      },
      "outputs": [
        {
          "output_type": "execute_result",
          "data": {
            "text/plain": [
              "   AGE GENDER            MARSTAT  EDUC              EMPLOY VET  \\\n",
              "0    5   MALE  DIVORCED, WIDOWED     1          UNEMPLOYED  NO   \n",
              "1    6   MALE  DIVORCED, WIDOWED     3  NOT IN LABOR FORCE  NO   \n",
              "2    5   MALE          SEPARATED     3          UNEMPLOYED  NO   \n",
              "\n",
              "            LIVARAG  ARRESTS   REGION METHUSE  REASON   LOS PSOURCE  \\\n",
              "0  DEPENDENT LIVING        0  MIDWEST      NO       0  32.0   COURT   \n",
              "1  DEPENDENT LIVING        0  MIDWEST      NO       0  31.0   COURT   \n",
              "2  DEPENDENT LIVING        0  MIDWEST      NO       0  35.0    SELF   \n",
              "\n",
              "            SUB1      ROUTE1  FREQ1  FRSTUSE1            ALCDRUG PSYPROB  \n",
              "0        ALCOHOL        ORAL      5         1  ALCOHOL AND DRUGS      NO  \n",
              "1  COCAINE/CRACK     SMOKING      5         4  ALCOHOL AND DRUGS      NO  \n",
              "2         HEROIN  INHALATION      5         2              DRUGS     YES  "
            ],
            "text/html": [
              "\n",
              "  <div id=\"df-fdefcb8d-08cc-46ad-beb7-400391d8e798\">\n",
              "    <div class=\"colab-df-container\">\n",
              "      <div>\n",
              "<style scoped>\n",
              "    .dataframe tbody tr th:only-of-type {\n",
              "        vertical-align: middle;\n",
              "    }\n",
              "\n",
              "    .dataframe tbody tr th {\n",
              "        vertical-align: top;\n",
              "    }\n",
              "\n",
              "    .dataframe thead th {\n",
              "        text-align: right;\n",
              "    }\n",
              "</style>\n",
              "<table border=\"1\" class=\"dataframe\">\n",
              "  <thead>\n",
              "    <tr style=\"text-align: right;\">\n",
              "      <th></th>\n",
              "      <th>AGE</th>\n",
              "      <th>GENDER</th>\n",
              "      <th>MARSTAT</th>\n",
              "      <th>EDUC</th>\n",
              "      <th>EMPLOY</th>\n",
              "      <th>VET</th>\n",
              "      <th>LIVARAG</th>\n",
              "      <th>ARRESTS</th>\n",
              "      <th>REGION</th>\n",
              "      <th>METHUSE</th>\n",
              "      <th>REASON</th>\n",
              "      <th>LOS</th>\n",
              "      <th>PSOURCE</th>\n",
              "      <th>SUB1</th>\n",
              "      <th>ROUTE1</th>\n",
              "      <th>FREQ1</th>\n",
              "      <th>FRSTUSE1</th>\n",
              "      <th>ALCDRUG</th>\n",
              "      <th>PSYPROB</th>\n",
              "    </tr>\n",
              "  </thead>\n",
              "  <tbody>\n",
              "    <tr>\n",
              "      <th>0</th>\n",
              "      <td>5</td>\n",
              "      <td>MALE</td>\n",
              "      <td>DIVORCED, WIDOWED</td>\n",
              "      <td>1</td>\n",
              "      <td>UNEMPLOYED</td>\n",
              "      <td>NO</td>\n",
              "      <td>DEPENDENT LIVING</td>\n",
              "      <td>0</td>\n",
              "      <td>MIDWEST</td>\n",
              "      <td>NO</td>\n",
              "      <td>0</td>\n",
              "      <td>32.0</td>\n",
              "      <td>COURT</td>\n",
              "      <td>ALCOHOL</td>\n",
              "      <td>ORAL</td>\n",
              "      <td>5</td>\n",
              "      <td>1</td>\n",
              "      <td>ALCOHOL AND DRUGS</td>\n",
              "      <td>NO</td>\n",
              "    </tr>\n",
              "    <tr>\n",
              "      <th>1</th>\n",
              "      <td>6</td>\n",
              "      <td>MALE</td>\n",
              "      <td>DIVORCED, WIDOWED</td>\n",
              "      <td>3</td>\n",
              "      <td>NOT IN LABOR FORCE</td>\n",
              "      <td>NO</td>\n",
              "      <td>DEPENDENT LIVING</td>\n",
              "      <td>0</td>\n",
              "      <td>MIDWEST</td>\n",
              "      <td>NO</td>\n",
              "      <td>0</td>\n",
              "      <td>31.0</td>\n",
              "      <td>COURT</td>\n",
              "      <td>COCAINE/CRACK</td>\n",
              "      <td>SMOKING</td>\n",
              "      <td>5</td>\n",
              "      <td>4</td>\n",
              "      <td>ALCOHOL AND DRUGS</td>\n",
              "      <td>NO</td>\n",
              "    </tr>\n",
              "    <tr>\n",
              "      <th>2</th>\n",
              "      <td>5</td>\n",
              "      <td>MALE</td>\n",
              "      <td>SEPARATED</td>\n",
              "      <td>3</td>\n",
              "      <td>UNEMPLOYED</td>\n",
              "      <td>NO</td>\n",
              "      <td>DEPENDENT LIVING</td>\n",
              "      <td>0</td>\n",
              "      <td>MIDWEST</td>\n",
              "      <td>NO</td>\n",
              "      <td>0</td>\n",
              "      <td>35.0</td>\n",
              "      <td>SELF</td>\n",
              "      <td>HEROIN</td>\n",
              "      <td>INHALATION</td>\n",
              "      <td>5</td>\n",
              "      <td>2</td>\n",
              "      <td>DRUGS</td>\n",
              "      <td>YES</td>\n",
              "    </tr>\n",
              "  </tbody>\n",
              "</table>\n",
              "</div>\n",
              "      <button class=\"colab-df-convert\" onclick=\"convertToInteractive('df-fdefcb8d-08cc-46ad-beb7-400391d8e798')\"\n",
              "              title=\"Convert this dataframe to an interactive table.\"\n",
              "              style=\"display:none;\">\n",
              "        \n",
              "  <svg xmlns=\"http://www.w3.org/2000/svg\" height=\"24px\"viewBox=\"0 0 24 24\"\n",
              "       width=\"24px\">\n",
              "    <path d=\"M0 0h24v24H0V0z\" fill=\"none\"/>\n",
              "    <path d=\"M18.56 5.44l.94 2.06.94-2.06 2.06-.94-2.06-.94-.94-2.06-.94 2.06-2.06.94zm-11 1L8.5 8.5l.94-2.06 2.06-.94-2.06-.94L8.5 2.5l-.94 2.06-2.06.94zm10 10l.94 2.06.94-2.06 2.06-.94-2.06-.94-.94-2.06-.94 2.06-2.06.94z\"/><path d=\"M17.41 7.96l-1.37-1.37c-.4-.4-.92-.59-1.43-.59-.52 0-1.04.2-1.43.59L10.3 9.45l-7.72 7.72c-.78.78-.78 2.05 0 2.83L4 21.41c.39.39.9.59 1.41.59.51 0 1.02-.2 1.41-.59l7.78-7.78 2.81-2.81c.8-.78.8-2.07 0-2.86zM5.41 20L4 18.59l7.72-7.72 1.47 1.35L5.41 20z\"/>\n",
              "  </svg>\n",
              "      </button>\n",
              "      \n",
              "  <style>\n",
              "    .colab-df-container {\n",
              "      display:flex;\n",
              "      flex-wrap:wrap;\n",
              "      gap: 12px;\n",
              "    }\n",
              "\n",
              "    .colab-df-convert {\n",
              "      background-color: #E8F0FE;\n",
              "      border: none;\n",
              "      border-radius: 50%;\n",
              "      cursor: pointer;\n",
              "      display: none;\n",
              "      fill: #1967D2;\n",
              "      height: 32px;\n",
              "      padding: 0 0 0 0;\n",
              "      width: 32px;\n",
              "    }\n",
              "\n",
              "    .colab-df-convert:hover {\n",
              "      background-color: #E2EBFA;\n",
              "      box-shadow: 0px 1px 2px rgba(60, 64, 67, 0.3), 0px 1px 3px 1px rgba(60, 64, 67, 0.15);\n",
              "      fill: #174EA6;\n",
              "    }\n",
              "\n",
              "    [theme=dark] .colab-df-convert {\n",
              "      background-color: #3B4455;\n",
              "      fill: #D2E3FC;\n",
              "    }\n",
              "\n",
              "    [theme=dark] .colab-df-convert:hover {\n",
              "      background-color: #434B5C;\n",
              "      box-shadow: 0px 1px 3px 1px rgba(0, 0, 0, 0.15);\n",
              "      filter: drop-shadow(0px 1px 2px rgba(0, 0, 0, 0.3));\n",
              "      fill: #FFFFFF;\n",
              "    }\n",
              "  </style>\n",
              "\n",
              "      <script>\n",
              "        const buttonEl =\n",
              "          document.querySelector('#df-fdefcb8d-08cc-46ad-beb7-400391d8e798 button.colab-df-convert');\n",
              "        buttonEl.style.display =\n",
              "          google.colab.kernel.accessAllowed ? 'block' : 'none';\n",
              "\n",
              "        async function convertToInteractive(key) {\n",
              "          const element = document.querySelector('#df-fdefcb8d-08cc-46ad-beb7-400391d8e798');\n",
              "          const dataTable =\n",
              "            await google.colab.kernel.invokeFunction('convertToInteractive',\n",
              "                                                     [key], {});\n",
              "          if (!dataTable) return;\n",
              "\n",
              "          const docLinkHtml = 'Like what you see? Visit the ' +\n",
              "            '<a target=\"_blank\" href=https://colab.research.google.com/notebooks/data_table.ipynb>data table notebook</a>'\n",
              "            + ' to learn more about interactive tables.';\n",
              "          element.innerHTML = '';\n",
              "          dataTable['output_type'] = 'display_data';\n",
              "          await google.colab.output.renderOutput(dataTable, element);\n",
              "          const docLink = document.createElement('div');\n",
              "          docLink.innerHTML = docLinkHtml;\n",
              "          element.appendChild(docLink);\n",
              "        }\n",
              "      </script>\n",
              "    </div>\n",
              "  </div>\n",
              "  "
            ]
          },
          "metadata": {},
          "execution_count": 10
        }
      ],
      "source": [
        "final.head(3)"
      ]
    },
    {
      "cell_type": "code",
      "execution_count": 11,
      "metadata": {
        "colab": {
          "base_uri": "https://localhost:8080/",
          "height": 605
        },
        "id": "kNUybVssAegK",
        "outputId": "3a67bddc-ffce-46d1-c5cb-ad1fd588641d"
      },
      "outputs": [
        {
          "output_type": "error",
          "ename": "ValueError",
          "evalue": "ignored",
          "traceback": [
            "\u001b[0;31m---------------------------------------------------------------------------\u001b[0m",
            "\u001b[0;31mValueError\u001b[0m                                Traceback (most recent call last)",
            "\u001b[0;32m<ipython-input-11-3d2cee1df3da>\u001b[0m in \u001b[0;36m<module>\u001b[0;34m\u001b[0m\n\u001b[1;32m      1\u001b[0m \u001b[0mplt\u001b[0m\u001b[0;34m.\u001b[0m\u001b[0msubplots\u001b[0m\u001b[0;34m(\u001b[0m\u001b[0mfigsize\u001b[0m\u001b[0;34m=\u001b[0m\u001b[0;34m(\u001b[0m\u001b[0;36m15\u001b[0m\u001b[0;34m,\u001b[0m\u001b[0;36m4\u001b[0m\u001b[0;34m)\u001b[0m\u001b[0;34m)\u001b[0m\u001b[0;34m\u001b[0m\u001b[0;34m\u001b[0m\u001b[0m\n\u001b[0;32m----> 2\u001b[0;31m \u001b[0msns\u001b[0m\u001b[0;34m.\u001b[0m\u001b[0mboxplot\u001b[0m\u001b[0;34m(\u001b[0m\u001b[0mfinal\u001b[0m\u001b[0;34m[\u001b[0m\u001b[0mord_cat\u001b[0m\u001b[0;34m]\u001b[0m\u001b[0;34m)\u001b[0m\u001b[0;34m\u001b[0m\u001b[0;34m\u001b[0m\u001b[0m\n\u001b[0m\u001b[1;32m      3\u001b[0m \u001b[0mplt\u001b[0m\u001b[0;34m.\u001b[0m\u001b[0mshow\u001b[0m\u001b[0;34m(\u001b[0m\u001b[0;34m)\u001b[0m\u001b[0;34m\u001b[0m\u001b[0;34m\u001b[0m\u001b[0m\n",
            "\u001b[0;32m/usr/local/lib/python3.8/dist-packages/seaborn/_decorators.py\u001b[0m in \u001b[0;36minner_f\u001b[0;34m(*args, **kwargs)\u001b[0m\n\u001b[1;32m     44\u001b[0m             )\n\u001b[1;32m     45\u001b[0m         \u001b[0mkwargs\u001b[0m\u001b[0;34m.\u001b[0m\u001b[0mupdate\u001b[0m\u001b[0;34m(\u001b[0m\u001b[0;34m{\u001b[0m\u001b[0mk\u001b[0m\u001b[0;34m:\u001b[0m \u001b[0marg\u001b[0m \u001b[0;32mfor\u001b[0m \u001b[0mk\u001b[0m\u001b[0;34m,\u001b[0m \u001b[0marg\u001b[0m \u001b[0;32min\u001b[0m \u001b[0mzip\u001b[0m\u001b[0;34m(\u001b[0m\u001b[0msig\u001b[0m\u001b[0;34m.\u001b[0m\u001b[0mparameters\u001b[0m\u001b[0;34m,\u001b[0m \u001b[0margs\u001b[0m\u001b[0;34m)\u001b[0m\u001b[0;34m}\u001b[0m\u001b[0;34m)\u001b[0m\u001b[0;34m\u001b[0m\u001b[0;34m\u001b[0m\u001b[0m\n\u001b[0;32m---> 46\u001b[0;31m         \u001b[0;32mreturn\u001b[0m \u001b[0mf\u001b[0m\u001b[0;34m(\u001b[0m\u001b[0;34m**\u001b[0m\u001b[0mkwargs\u001b[0m\u001b[0;34m)\u001b[0m\u001b[0;34m\u001b[0m\u001b[0;34m\u001b[0m\u001b[0m\n\u001b[0m\u001b[1;32m     47\u001b[0m     \u001b[0;32mreturn\u001b[0m \u001b[0minner_f\u001b[0m\u001b[0;34m\u001b[0m\u001b[0;34m\u001b[0m\u001b[0m\n\u001b[1;32m     48\u001b[0m \u001b[0;34m\u001b[0m\u001b[0m\n",
            "\u001b[0;32m/usr/local/lib/python3.8/dist-packages/seaborn/categorical.py\u001b[0m in \u001b[0;36mboxplot\u001b[0;34m(x, y, hue, data, order, hue_order, orient, color, palette, saturation, width, dodge, fliersize, linewidth, whis, ax, **kwargs)\u001b[0m\n\u001b[1;32m   2241\u001b[0m ):\n\u001b[1;32m   2242\u001b[0m \u001b[0;34m\u001b[0m\u001b[0m\n\u001b[0;32m-> 2243\u001b[0;31m     plotter = _BoxPlotter(x, y, hue, data, order, hue_order,\n\u001b[0m\u001b[1;32m   2244\u001b[0m                           \u001b[0morient\u001b[0m\u001b[0;34m,\u001b[0m \u001b[0mcolor\u001b[0m\u001b[0;34m,\u001b[0m \u001b[0mpalette\u001b[0m\u001b[0;34m,\u001b[0m \u001b[0msaturation\u001b[0m\u001b[0;34m,\u001b[0m\u001b[0;34m\u001b[0m\u001b[0;34m\u001b[0m\u001b[0m\n\u001b[1;32m   2245\u001b[0m                           width, dodge, fliersize, linewidth)\n",
            "\u001b[0;32m/usr/local/lib/python3.8/dist-packages/seaborn/categorical.py\u001b[0m in \u001b[0;36m__init__\u001b[0;34m(self, x, y, hue, data, order, hue_order, orient, color, palette, saturation, width, dodge, fliersize, linewidth)\u001b[0m\n\u001b[1;32m    404\u001b[0m                  width, dodge, fliersize, linewidth):\n\u001b[1;32m    405\u001b[0m \u001b[0;34m\u001b[0m\u001b[0m\n\u001b[0;32m--> 406\u001b[0;31m         \u001b[0mself\u001b[0m\u001b[0;34m.\u001b[0m\u001b[0mestablish_variables\u001b[0m\u001b[0;34m(\u001b[0m\u001b[0mx\u001b[0m\u001b[0;34m,\u001b[0m \u001b[0my\u001b[0m\u001b[0;34m,\u001b[0m \u001b[0mhue\u001b[0m\u001b[0;34m,\u001b[0m \u001b[0mdata\u001b[0m\u001b[0;34m,\u001b[0m \u001b[0morient\u001b[0m\u001b[0;34m,\u001b[0m \u001b[0morder\u001b[0m\u001b[0;34m,\u001b[0m \u001b[0mhue_order\u001b[0m\u001b[0;34m)\u001b[0m\u001b[0;34m\u001b[0m\u001b[0;34m\u001b[0m\u001b[0m\n\u001b[0m\u001b[1;32m    407\u001b[0m         \u001b[0mself\u001b[0m\u001b[0;34m.\u001b[0m\u001b[0mestablish_colors\u001b[0m\u001b[0;34m(\u001b[0m\u001b[0mcolor\u001b[0m\u001b[0;34m,\u001b[0m \u001b[0mpalette\u001b[0m\u001b[0;34m,\u001b[0m \u001b[0msaturation\u001b[0m\u001b[0;34m)\u001b[0m\u001b[0;34m\u001b[0m\u001b[0;34m\u001b[0m\u001b[0m\n\u001b[1;32m    408\u001b[0m \u001b[0;34m\u001b[0m\u001b[0m\n",
            "\u001b[0;32m/usr/local/lib/python3.8/dist-packages/seaborn/categorical.py\u001b[0m in \u001b[0;36mestablish_variables\u001b[0;34m(self, x, y, hue, data, orient, order, hue_order, units)\u001b[0m\n\u001b[1;32m    154\u001b[0m \u001b[0;34m\u001b[0m\u001b[0m\n\u001b[1;32m    155\u001b[0m             \u001b[0;31m# Figure out the plotting orientation\u001b[0m\u001b[0;34m\u001b[0m\u001b[0;34m\u001b[0m\u001b[0;34m\u001b[0m\u001b[0m\n\u001b[0;32m--> 156\u001b[0;31m             orient = infer_orient(\n\u001b[0m\u001b[1;32m    157\u001b[0m                 \u001b[0mx\u001b[0m\u001b[0;34m,\u001b[0m \u001b[0my\u001b[0m\u001b[0;34m,\u001b[0m \u001b[0morient\u001b[0m\u001b[0;34m,\u001b[0m \u001b[0mrequire_numeric\u001b[0m\u001b[0;34m=\u001b[0m\u001b[0mself\u001b[0m\u001b[0;34m.\u001b[0m\u001b[0mrequire_numeric\u001b[0m\u001b[0;34m\u001b[0m\u001b[0;34m\u001b[0m\u001b[0m\n\u001b[1;32m    158\u001b[0m             )\n",
            "\u001b[0;32m/usr/local/lib/python3.8/dist-packages/seaborn/_core.py\u001b[0m in \u001b[0;36minfer_orient\u001b[0;34m(x, y, orient, require_numeric)\u001b[0m\n\u001b[1;32m   1309\u001b[0m     \"\"\"\n\u001b[1;32m   1310\u001b[0m \u001b[0;34m\u001b[0m\u001b[0m\n\u001b[0;32m-> 1311\u001b[0;31m     \u001b[0mx_type\u001b[0m \u001b[0;34m=\u001b[0m \u001b[0;32mNone\u001b[0m \u001b[0;32mif\u001b[0m \u001b[0mx\u001b[0m \u001b[0;32mis\u001b[0m \u001b[0;32mNone\u001b[0m \u001b[0;32melse\u001b[0m \u001b[0mvariable_type\u001b[0m\u001b[0;34m(\u001b[0m\u001b[0mx\u001b[0m\u001b[0;34m)\u001b[0m\u001b[0;34m\u001b[0m\u001b[0;34m\u001b[0m\u001b[0m\n\u001b[0m\u001b[1;32m   1312\u001b[0m     \u001b[0my_type\u001b[0m \u001b[0;34m=\u001b[0m \u001b[0;32mNone\u001b[0m \u001b[0;32mif\u001b[0m \u001b[0my\u001b[0m \u001b[0;32mis\u001b[0m \u001b[0;32mNone\u001b[0m \u001b[0;32melse\u001b[0m \u001b[0mvariable_type\u001b[0m\u001b[0;34m(\u001b[0m\u001b[0my\u001b[0m\u001b[0;34m)\u001b[0m\u001b[0;34m\u001b[0m\u001b[0;34m\u001b[0m\u001b[0m\n\u001b[1;32m   1313\u001b[0m \u001b[0;34m\u001b[0m\u001b[0m\n",
            "\u001b[0;32m/usr/local/lib/python3.8/dist-packages/seaborn/_core.py\u001b[0m in \u001b[0;36mvariable_type\u001b[0;34m(vector, boolean_type)\u001b[0m\n\u001b[1;32m   1227\u001b[0m \u001b[0;34m\u001b[0m\u001b[0m\n\u001b[1;32m   1228\u001b[0m     \u001b[0;31m# Special-case all-na data, which is always \"numeric\"\u001b[0m\u001b[0;34m\u001b[0m\u001b[0;34m\u001b[0m\u001b[0;34m\u001b[0m\u001b[0m\n\u001b[0;32m-> 1229\u001b[0;31m     \u001b[0;32mif\u001b[0m \u001b[0mpd\u001b[0m\u001b[0;34m.\u001b[0m\u001b[0misna\u001b[0m\u001b[0;34m(\u001b[0m\u001b[0mvector\u001b[0m\u001b[0;34m)\u001b[0m\u001b[0;34m.\u001b[0m\u001b[0mall\u001b[0m\u001b[0;34m(\u001b[0m\u001b[0;34m)\u001b[0m\u001b[0;34m:\u001b[0m\u001b[0;34m\u001b[0m\u001b[0;34m\u001b[0m\u001b[0m\n\u001b[0m\u001b[1;32m   1230\u001b[0m         \u001b[0;32mreturn\u001b[0m \u001b[0;34m\"numeric\"\u001b[0m\u001b[0;34m\u001b[0m\u001b[0;34m\u001b[0m\u001b[0m\n\u001b[1;32m   1231\u001b[0m \u001b[0;34m\u001b[0m\u001b[0m\n",
            "\u001b[0;32m/usr/local/lib/python3.8/dist-packages/pandas/core/generic.py\u001b[0m in \u001b[0;36m__nonzero__\u001b[0;34m(self)\u001b[0m\n\u001b[1;32m   1535\u001b[0m     \u001b[0;34m@\u001b[0m\u001b[0mfinal\u001b[0m\u001b[0;34m\u001b[0m\u001b[0;34m\u001b[0m\u001b[0m\n\u001b[1;32m   1536\u001b[0m     \u001b[0;32mdef\u001b[0m \u001b[0m__nonzero__\u001b[0m\u001b[0;34m(\u001b[0m\u001b[0mself\u001b[0m\u001b[0;34m)\u001b[0m\u001b[0;34m:\u001b[0m\u001b[0;34m\u001b[0m\u001b[0;34m\u001b[0m\u001b[0m\n\u001b[0;32m-> 1537\u001b[0;31m         raise ValueError(\n\u001b[0m\u001b[1;32m   1538\u001b[0m             \u001b[0;34mf\"The truth value of a {type(self).__name__} is ambiguous. \"\u001b[0m\u001b[0;34m\u001b[0m\u001b[0;34m\u001b[0m\u001b[0m\n\u001b[1;32m   1539\u001b[0m             \u001b[0;34m\"Use a.empty, a.bool(), a.item(), a.any() or a.all().\"\u001b[0m\u001b[0;34m\u001b[0m\u001b[0;34m\u001b[0m\u001b[0m\n",
            "\u001b[0;31mValueError\u001b[0m: The truth value of a Series is ambiguous. Use a.empty, a.bool(), a.item(), a.any() or a.all()."
          ]
        },
        {
          "output_type": "display_data",
          "data": {
            "text/plain": [
              "<Figure size 1080x288 with 1 Axes>"
            ],
            "image/png": "[encoded data removed]"
          },
          "metadata": {}
        }
      ],
      "source": [
        "plt.subplots(figsize=(15,4))\n",
        "sns.boxplot(final[ord_cat])\n",
        "plt.show()"
      ]
    },
    {
      "cell_type": "code",
      "execution_count": 12,
      "metadata": {
        "colab": {
          "base_uri": "https://localhost:8080/",
          "height": 428
        },
        "id": "s5Vt5fFqAegK",
        "outputId": "403ca3c0-f887-4697-de14-286fb170d17f"
      },
      "outputs": [
        {
          "output_type": "display_data",
          "data": {
            "text/plain": [
              "<Figure size 864x504 with 1 Axes>"
            ],
            "image/png": "[encoded data removed]"
          },
          "metadata": {}
        }
      ],
      "source": [
        "# correlation maxtrix with heatmat\n",
        "corr = final.corr()\n",
        "plt.subplots(figsize=(12,7))\n",
        "sns.heatmap(corr,annot=True,fmt='.2f',cmap='RdBu_r',cbar=False)  \n",
        "plt.show()           "
      ]
    },
    {
      "cell_type": "code",
      "execution_count": 20,
      "metadata": {
        "id": "V79KNZl9AegL"
      },
      "outputs": [],
      "source": [
        "transformer = ColumnTransformer(\n",
        "    transformers=[\n",
        "        ('onehot',OneHotEncoder(drop='first'),selector(dtype_include=object))],\n",
        "    remainder='passthrough')"
      ]
    },
    {
      "cell_type": "code",
      "execution_count": 15,
      "metadata": {
        "id": "ycUBa9DAAegL"
      },
      "outputs": [],
      "source": [
        "models = {'Logistic Regression':LogisticRegression(random_state=42),\n",
        "          'GaussianNB':GaussianNB(),\n",
        "          'XGBClassifier':XGBClassifier(random_state=42),\n",
        "         'KNeighborsClassifier':KNeighborsClassifier(),\n",
        "          'RandomForestClassifier':RandomForestClassifier(random_state=42)}"
      ]
    },
    {
      "cell_type": "code",
      "execution_count": 16,
      "metadata": {
        "id": "QJuMJYzxAegL"
      },
      "outputs": [],
      "source": [
        "X = final.drop('REASON',axis=1)\n",
        "y = final['REASON']\n",
        "X_train,X_test,y_train,y_test = train_test_split(X,y,test_size=0.3,random_state=42,shuffle= True)"
      ]
    },
    {
      "cell_type": "code",
      "execution_count": null,
      "metadata": {
        "id": "eU_qtC5VAegL"
      },
      "outputs": [],
      "source": [
        "score = {}\n",
        "fig, ax = plt.subplots(nrows=2,ncols=4,figsize=(15,8))\n",
        "for index,model in enumerate(models.keys()):\n",
        "    pipeline = pipeline = Pipeline(  \n",
        "        steps=[\n",
        "            ('transformer', transformer),\n",
        "            ('model', models[model])])\n",
        "    # grid = GridSearchCV(pipe,param,cv=5,verbose=1)\n",
        "    pipeline.fit(X_train, y_train)\n",
        "    score[model] = pipeline.score(X_test,y_test)\n",
        "    pred = pipeline.predict(X_test)\n",
        "    ConfusionMatrixDisplay.from_estimator(pipeline, X_test, y_test,labels = pipeline.classes_,colorbar=False,ax=ax[0,index])\n",
        "    RocCurveDisplay.from_estimator(pipeline, X_test, y_test,ax = ax[1,index])\n",
        "    ax[0,index].set(title=model)\n",
        "    fig.tight_layout()"
      ]
    },
    {
      "cell_type": "code",
      "execution_count": 33,
      "metadata": {
        "id": "IMpbKsaDAegM"
      },
      "outputs": [],
      "source": [
        "X = final.drop('REASON',axis=1)\n",
        "y = final['REASON']\n",
        "X_train,X_test,y_train,y_test = train_test_split(X,y,test_size=0.3,random_state=42,shuffle= True)"
      ]
    },
    {
      "cell_type": "code",
      "execution_count": null,
      "metadata": {
        "id": "h4bFyQGCAegM"
      },
      "outputs": [],
      "source": [
        "score = {}\n",
        "# fig, ax = plt.subplots(nrows=2,ncols=4,figsize=(15,8))\n",
        "for index,model in enumerate(models.keys()):\n",
        "    pipeline = pipeline = Pipeline(  \n",
        "        steps=[\n",
        "            ('transformer', transformer),\n",
        "            ('model', models[model])])\n",
        "    pipeline.fit(X_train, y_train)\n",
        "    score[model] = pipeline.score(X_test,y_test)\n",
        "    pred = pipeline.predict(X_test)\n",
        "    print(classification_report(y_test,pred))\n",
        "    ConfusionMatrixDisplay.from_predictions(y_test,pred,labels = pipeline.classes_,colorbar=False,display_labels=['FAILURE','SUCCESS'],cmap='YlGnBu')\n",
        "    plt.show()\n",
        "    pred_prob = pipeline.predict_proba(X_test)\n",
        "    fpr, tpr, thresholds = roc_curve(y_test, pred_prob[:,1], pos_label=1)\n",
        "    area = auc(fpr, tpr)\n",
        "    plt.plot(fpr, tpr, linestyle='--',lw = 2,color='darkorange',label=f\"{model} ROC curve (area ={round(area,2)})\")\n",
        "    plt.plot([0,1], [0,1], linestyle='--', color='navy')\n",
        "    plt.title('ROC Curve: AUC')\n",
        "    plt.xlabel('False Positive Rate')\n",
        "    plt.ylabel('True Positive rate')\n",
        "    plt.legend(loc=\"best\")\n",
        "    plt.xlim([0.0, 1.0])\n",
        "    plt.ylim([0.0, 1.05])\n",
        "    plt.savefig(model,dpi=300)\n",
        "    plt.show();"
      ]
    },
    {
      "cell_type": "code",
      "execution_count": 34,
      "metadata": {
        "id": "xCQ22r_eAegM"
      },
      "outputs": [],
      "source": [
        "lr_grid = {'model__C': [100, 10, 1.0, 0.1, 0.01],\n",
        "                'model__solver': ['newton-cg', 'lbfgs', 'liblinear'],\n",
        "                'model__penalty' :['l2']}\n",
        "g_nb_grid = {'model__var_smoothing': np.logspace(0,-9, num=100)}\n",
        "xg_b_grid = { 'model__n_estimators': [100, 200, 500],\n",
        "            'model__learning_rate': [0.01,0.05,0.1],\n",
        "            'model__booster': ['gbtree', 'gblinear'],\n",
        "            'model__gamma': [0, 0.5, 1],\n",
        "            'model__reg_alpha': [0, 0.5, 1],\n",
        "            'model__reg_lambda': [0.5, 1, 5],\n",
        "            'model__base_score': [0.2, 0.5, 1]}\n",
        "rf_grid = {\"model__n_estimators\": np.arange(10, 1000, 50),\n",
        "           \"model__max_depth\": [None, 3, 5, 10],\n",
        "           \"model__min_samples_split\": np.arange(2, 20, 2),\n",
        "           \"model__min_samples_leaf\": np.arange(1, 20, 2)}\n",
        "params = {'Logistic Regression':lr_grid,'GaussianNB':g_nb_grid,'XGBClassifier':xg_b_grid,'RandomForestClassifier':rf_grid,'KNeighborsClassifier':KNeighborsClassifier()}"
      ]
    },
    {
      "cell_type": "code",
      "execution_count": 35,
      "metadata": {
        "colab": {
          "base_uri": "https://localhost:8080/",
          "height": 544
        },
        "id": "D9morXN4AegM",
        "outputId": "4b461cce-4687-49aa-e713-4bd439d0201c"
      },
      "outputs": [
        {
          "output_type": "stream",
          "name": "stdout",
          "text": [
            "Best: nan using {'model__solver': 'newton-cg', 'model__penalty': 'l2', 'model__C': 100}\n",
            "nan (nan) with: {'model__solver': 'newton-cg', 'model__penalty': 'l2', 'model__C': 100}\n",
            "nan (nan) with: {'model__solver': 'lbfgs', 'model__penalty': 'l2', 'model__C': 100}\n",
            "nan (nan) with: {'model__solver': 'liblinear', 'model__penalty': 'l2', 'model__C': 100}\n",
            "nan (nan) with: {'model__solver': 'newton-cg', 'model__penalty': 'l2', 'model__C': 10}\n",
            "nan (nan) with: {'model__solver': 'lbfgs', 'model__penalty': 'l2', 'model__C': 10}\n",
            "nan (nan) with: {'model__solver': 'liblinear', 'model__penalty': 'l2', 'model__C': 10}\n",
            "nan (nan) with: {'model__solver': 'newton-cg', 'model__penalty': 'l2', 'model__C': 1.0}\n",
            "nan (nan) with: {'model__solver': 'lbfgs', 'model__penalty': 'l2', 'model__C': 1.0}\n",
            "nan (nan) with: {'model__solver': 'liblinear', 'model__penalty': 'l2', 'model__C': 1.0}\n",
            "nan (nan) with: {'model__solver': 'newton-cg', 'model__penalty': 'l2', 'model__C': 0.1}\n",
            "nan (nan) with: {'model__solver': 'lbfgs', 'model__penalty': 'l2', 'model__C': 0.1}\n",
            "nan (nan) with: {'model__solver': 'liblinear', 'model__penalty': 'l2', 'model__C': 0.1}\n",
            "nan (nan) with: {'model__solver': 'newton-cg', 'model__penalty': 'l2', 'model__C': 0.01}\n",
            "nan (nan) with: {'model__solver': 'lbfgs', 'model__penalty': 'l2', 'model__C': 0.01}\n",
            "nan (nan) with: {'model__solver': 'liblinear', 'model__penalty': 'l2', 'model__C': 0.01}\n"
          ]
        },
        {
          "output_type": "error",
          "ename": "TypeError",
          "evalue": "ignored",
          "traceback": [
            "\u001b[0;31m---------------------------------------------------------------------------\u001b[0m",
            "\u001b[0;31mTypeError\u001b[0m                                 Traceback (most recent call last)",
            "\u001b[0;32m<ipython-input-35-0fff8edc7198>\u001b[0m in \u001b[0;36m<module>\u001b[0;34m\u001b[0m\n\u001b[1;32m      6\u001b[0m             \u001b[0;34m(\u001b[0m\u001b[0;34m'transformer'\u001b[0m\u001b[0;34m,\u001b[0m \u001b[0mtransformer\u001b[0m\u001b[0;34m)\u001b[0m\u001b[0;34m,\u001b[0m\u001b[0;34m\u001b[0m\u001b[0;34m\u001b[0m\u001b[0m\n\u001b[1;32m      7\u001b[0m             ('model', models[model])])\n\u001b[0;32m----> 8\u001b[0;31m     \u001b[0mgrid\u001b[0m \u001b[0;34m=\u001b[0m \u001b[0mRandomizedSearchCV\u001b[0m\u001b[0;34m(\u001b[0m\u001b[0mpipeline\u001b[0m\u001b[0;34m,\u001b[0m\u001b[0mparams\u001b[0m\u001b[0;34m[\u001b[0m\u001b[0mmodel\u001b[0m\u001b[0;34m]\u001b[0m\u001b[0;34m,\u001b[0m\u001b[0mcv\u001b[0m\u001b[0;34m=\u001b[0m\u001b[0;36m5\u001b[0m\u001b[0;34m,\u001b[0m\u001b[0mscoring\u001b[0m\u001b[0;34m=\u001b[0m\u001b[0;34m'accuracy'\u001b[0m\u001b[0;34m,\u001b[0m\u001b[0mverbose\u001b[0m\u001b[0;34m=\u001b[0m\u001b[0;36m0\u001b[0m\u001b[0;34m,\u001b[0m\u001b[0mn_jobs\u001b[0m\u001b[0;34m=\u001b[0m\u001b[0;34m-\u001b[0m\u001b[0;36m1\u001b[0m\u001b[0;34m,\u001b[0m\u001b[0mn_iter\u001b[0m\u001b[0;34m=\u001b[0m\u001b[0;36m20\u001b[0m\u001b[0;34m)\u001b[0m\u001b[0;34m\u001b[0m\u001b[0;34m\u001b[0m\u001b[0m\n\u001b[0m\u001b[1;32m      9\u001b[0m     \u001b[0mgrid\u001b[0m\u001b[0;34m.\u001b[0m\u001b[0mfit\u001b[0m\u001b[0;34m(\u001b[0m\u001b[0mX_train\u001b[0m\u001b[0;34m,\u001b[0m \u001b[0my_train\u001b[0m\u001b[0;34m)\u001b[0m\u001b[0;34m\u001b[0m\u001b[0;34m\u001b[0m\u001b[0m\n\u001b[1;32m     10\u001b[0m     \u001b[0mgrid_score\u001b[0m\u001b[0;34m[\u001b[0m\u001b[0mmodel\u001b[0m\u001b[0;34m]\u001b[0m \u001b[0;34m=\u001b[0m \u001b[0mgrid\u001b[0m\u001b[0;34m.\u001b[0m\u001b[0mscore\u001b[0m\u001b[0;34m(\u001b[0m\u001b[0mX_test\u001b[0m\u001b[0;34m,\u001b[0m\u001b[0my_test\u001b[0m\u001b[0;34m)\u001b[0m\u001b[0;34m\u001b[0m\u001b[0;34m\u001b[0m\u001b[0m\n",
            "\u001b[0;31mTypeError\u001b[0m: list indices must be integers or slices, not str"
          ]
        }
      ],
      "source": [
        "grid_score = {}\n",
        "best_param = {}\n",
        "for index,model in enumerate(models.keys()):\n",
        "    pipeline = pipeline = Pipeline(  \n",
        "        steps=[\n",
        "            ('transformer', transformer),\n",
        "            ('model', models[model])])\n",
        "    grid = RandomizedSearchCV(pipeline,params[model],cv=5,scoring='accuracy',verbose=0,n_jobs=-1,n_iter=20)\n",
        "    grid.fit(X_train, y_train)\n",
        "    grid_score[model] = grid.score(X_test,y_test)\n",
        "    best_param[model] = grid.best_estimator_\n",
        "    print(\"Best: %f using %s\" % (grid.best_score_, grid.best_params_))\n",
        "    means = grid.cv_results_['mean_test_score']\n",
        "    stds = grid.cv_results_['std_test_score']\n",
        "    params = grid.cv_results_['params']\n",
        "    for mean, stdev, param in zip(means, stds, params):\n",
        "        print(\"%f (%f) with: %r\" % (mean, stdev, param))\n",
        "    # ConfusionMatrixDisplay.from_estimator(grid, X_test, y_test,labels = grid.classes_,colorbar=False,ax=ax[0,index])\n",
        "    # RocCurveDisplay.from_estimator(grid, X_test, y_test,ax = ax[1,index])\n",
        "    # ax[0,index].set(title=model)\n",
        "    # fig.tight_layout()"
      ]
    },
    {
      "cell_type": "code",
      "execution_count": null,
      "metadata": {
        "id": "H28Pr0XBAegN"
      },
      "outputs": [],
      "source": [
        "feature_names = pipeline[-1].get_feature_names_out()\n",
        "mdi_importances = pd.Series(model[-1].feature_importances_, index=feature_names).sort_values(ascending=True)"
      ]
    },
    {
      "cell_type": "code",
      "execution_count": null,
      "metadata": {
        "id": "al85W8TfAegN"
      },
      "outputs": [],
      "source": []
    },
    {
      "cell_type": "markdown",
      "metadata": {
        "id": "-MmLa85jAegN"
      },
      "source": [
        "**Creating dummy variables for the categorical features using OneHotEncoder**"
      ]
    },
    {
      "cell_type": "code",
      "execution_count": null,
      "metadata": {
        "id": "jcxNr4l_AegO",
        "outputId": "107294dc-eb26-4fe0-cad6-72e25c793a8d"
      },
      "outputs": [
        {
          "data": {
            "text/html": [
              "<style>#sk-container-id-13 {color: black;background-color: white;}#sk-container-id-13 pre{padding: 0;}#sk-container-id-13 div.sk-toggleable {background-color: white;}#sk-container-id-13 label.sk-toggleable__label {cursor: pointer;display: block;width: 100%;margin-bottom: 0;padding: 0.3em;box-sizing: border-box;text-align: center;}#sk-container-id-13 label.sk-toggleable__label-arrow:before {content: \"▸\";float: left;margin-right: 0.25em;color: #696969;}#sk-container-id-13 label.sk-toggleable__label-arrow:hover:before {color: black;}#sk-container-id-13 div.sk-estimator:hover label.sk-toggleable__label-arrow:before {color: black;}#sk-container-id-13 div.sk-toggleable__content {max-height: 0;max-width: 0;overflow: hidden;text-align: left;background-color: #f0f8ff;}#sk-container-id-13 div.sk-toggleable__content pre {margin: 0.2em;color: black;border-radius: 0.25em;background-color: #f0f8ff;}#sk-container-id-13 input.sk-toggleable__control:checked~div.sk-toggleable__content {max-height: 200px;max-width: 100%;overflow: auto;}#sk-container-id-13 input.sk-toggleable__control:checked~label.sk-toggleable__label-arrow:before {content: \"▾\";}#sk-container-id-13 div.sk-estimator input.sk-toggleable__control:checked~label.sk-toggleable__label {background-color: #d4ebff;}#sk-container-id-13 div.sk-label input.sk-toggleable__control:checked~label.sk-toggleable__label {background-color: #d4ebff;}#sk-container-id-13 input.sk-hidden--visually {border: 0;clip: rect(1px 1px 1px 1px);clip: rect(1px, 1px, 1px, 1px);height: 1px;margin: -1px;overflow: hidden;padding: 0;position: absolute;width: 1px;}#sk-container-id-13 div.sk-estimator {font-family: monospace;background-color: #f0f8ff;border: 1px dotted black;border-radius: 0.25em;box-sizing: border-box;margin-bottom: 0.5em;}#sk-container-id-13 div.sk-estimator:hover {background-color: #d4ebff;}#sk-container-id-13 div.sk-parallel-item::after {content: \"\";width: 100%;border-bottom: 1px solid gray;flex-grow: 1;}#sk-container-id-13 div.sk-label:hover label.sk-toggleable__label {background-color: #d4ebff;}#sk-container-id-13 div.sk-serial::before {content: \"\";position: absolute;border-left: 1px solid gray;box-sizing: border-box;top: 0;bottom: 0;left: 50%;z-index: 0;}#sk-container-id-13 div.sk-serial {display: flex;flex-direction: column;align-items: center;background-color: white;padding-right: 0.2em;padding-left: 0.2em;position: relative;}#sk-container-id-13 div.sk-item {position: relative;z-index: 1;}#sk-container-id-13 div.sk-parallel {display: flex;align-items: stretch;justify-content: center;background-color: white;position: relative;}#sk-container-id-13 div.sk-item::before, #sk-container-id-13 div.sk-parallel-item::before {content: \"\";position: absolute;border-left: 1px solid gray;box-sizing: border-box;top: 0;bottom: 0;left: 50%;z-index: -1;}#sk-container-id-13 div.sk-parallel-item {display: flex;flex-direction: column;z-index: 1;position: relative;background-color: white;}#sk-container-id-13 div.sk-parallel-item:first-child::after {align-self: flex-end;width: 50%;}#sk-container-id-13 div.sk-parallel-item:last-child::after {align-self: flex-start;width: 50%;}#sk-container-id-13 div.sk-parallel-item:only-child::after {width: 0;}#sk-container-id-13 div.sk-dashed-wrapped {border: 1px dashed gray;margin: 0 0.4em 0.5em 0.4em;box-sizing: border-box;padding-bottom: 0.4em;background-color: white;}#sk-container-id-13 div.sk-label label {font-family: monospace;font-weight: bold;display: inline-block;line-height: 1.2em;}#sk-container-id-13 div.sk-label-container {text-align: center;}#sk-container-id-13 div.sk-container {/* jupyter's `normalize.less` sets `[hidden] { display: none; }` but bootstrap.min.css set `[hidden] { display: none !important; }` so we also need the `!important` here to be able to override the default hidden behavior on the sphinx rendered scikit-learn.org. See: https://github.com/scikit-learn/scikit-learn/issues/21755 */display: inline-block !important;position: relative;}#sk-container-id-13 div.sk-text-repr-fallback {display: none;}</style><div id=\"sk-container-id-13\" class=\"sk-top-container\"><div class=\"sk-text-repr-fallback\"><pre>Pipeline(steps=[(&#x27;transformer&#x27;,\n",
              "                 ColumnTransformer(remainder=&#x27;passthrough&#x27;,\n",
              "                                   transformers=[(&#x27;onehot&#x27;,\n",
              "                                                  OneHotEncoder(drop=&#x27;first&#x27;),\n",
              "                                                  [&#x27;GENDER&#x27;, &#x27;MARSTAT&#x27;,\n",
              "                                                   &#x27;EMPLOY&#x27;, &#x27;VET&#x27;, &#x27;LIVARAG&#x27;,\n",
              "                                                   &#x27;REGION&#x27;, &#x27;METHUSE&#x27;,\n",
              "                                                   &#x27;PSOURCE&#x27;, &#x27;SUB1&#x27;, &#x27;ROUTE1&#x27;,\n",
              "                                                   &#x27;ALCDRUG&#x27;, &#x27;PSYPROB&#x27;])]))])</pre><b>In a Jupyter environment, please rerun this cell to show the HTML representation or trust the notebook. <br />On GitHub, the HTML representation is unable to render, please try loading this page with nbviewer.org.</b></div><div class=\"sk-container\" hidden><div class=\"sk-item sk-dashed-wrapped\"><div class=\"sk-label-container\"><div class=\"sk-label sk-toggleable\"><input class=\"sk-toggleable__control sk-hidden--visually\" id=\"sk-estimator-id-59\" type=\"checkbox\" ><label for=\"sk-estimator-id-59\" class=\"sk-toggleable__label sk-toggleable__label-arrow\">Pipeline</label><div class=\"sk-toggleable__content\"><pre>Pipeline(steps=[(&#x27;transformer&#x27;,\n",
              "                 ColumnTransformer(remainder=&#x27;passthrough&#x27;,\n",
              "                                   transformers=[(&#x27;onehot&#x27;,\n",
              "                                                  OneHotEncoder(drop=&#x27;first&#x27;),\n",
              "                                                  [&#x27;GENDER&#x27;, &#x27;MARSTAT&#x27;,\n",
              "                                                   &#x27;EMPLOY&#x27;, &#x27;VET&#x27;, &#x27;LIVARAG&#x27;,\n",
              "                                                   &#x27;REGION&#x27;, &#x27;METHUSE&#x27;,\n",
              "                                                   &#x27;PSOURCE&#x27;, &#x27;SUB1&#x27;, &#x27;ROUTE1&#x27;,\n",
              "                                                   &#x27;ALCDRUG&#x27;, &#x27;PSYPROB&#x27;])]))])</pre></div></div></div><div class=\"sk-serial\"><div class=\"sk-item sk-dashed-wrapped\"><div class=\"sk-label-container\"><div class=\"sk-label sk-toggleable\"><input class=\"sk-toggleable__control sk-hidden--visually\" id=\"sk-estimator-id-60\" type=\"checkbox\" ><label for=\"sk-estimator-id-60\" class=\"sk-toggleable__label sk-toggleable__label-arrow\">transformer: ColumnTransformer</label><div class=\"sk-toggleable__content\"><pre>ColumnTransformer(remainder=&#x27;passthrough&#x27;,\n",
              "                  transformers=[(&#x27;onehot&#x27;, OneHotEncoder(drop=&#x27;first&#x27;),\n",
              "                                 [&#x27;GENDER&#x27;, &#x27;MARSTAT&#x27;, &#x27;EMPLOY&#x27;, &#x27;VET&#x27;,\n",
              "                                  &#x27;LIVARAG&#x27;, &#x27;REGION&#x27;, &#x27;METHUSE&#x27;, &#x27;PSOURCE&#x27;,\n",
              "                                  &#x27;SUB1&#x27;, &#x27;ROUTE1&#x27;, &#x27;ALCDRUG&#x27;, &#x27;PSYPROB&#x27;])])</pre></div></div></div><div class=\"sk-parallel\"><div class=\"sk-parallel-item\"><div class=\"sk-item\"><div class=\"sk-label-container\"><div class=\"sk-label sk-toggleable\"><input class=\"sk-toggleable__control sk-hidden--visually\" id=\"sk-estimator-id-61\" type=\"checkbox\" ><label for=\"sk-estimator-id-61\" class=\"sk-toggleable__label sk-toggleable__label-arrow\">onehot</label><div class=\"sk-toggleable__content\"><pre>[&#x27;GENDER&#x27;, &#x27;MARSTAT&#x27;, &#x27;EMPLOY&#x27;, &#x27;VET&#x27;, &#x27;LIVARAG&#x27;, &#x27;REGION&#x27;, &#x27;METHUSE&#x27;, &#x27;PSOURCE&#x27;, &#x27;SUB1&#x27;, &#x27;ROUTE1&#x27;, &#x27;ALCDRUG&#x27;, &#x27;PSYPROB&#x27;]</pre></div></div></div><div class=\"sk-serial\"><div class=\"sk-item\"><div class=\"sk-estimator sk-toggleable\"><input class=\"sk-toggleable__control sk-hidden--visually\" id=\"sk-estimator-id-62\" type=\"checkbox\" ><label for=\"sk-estimator-id-62\" class=\"sk-toggleable__label sk-toggleable__label-arrow\">OneHotEncoder</label><div class=\"sk-toggleable__content\"><pre>OneHotEncoder(drop=&#x27;first&#x27;)</pre></div></div></div></div></div></div><div class=\"sk-parallel-item\"><div class=\"sk-item\"><div class=\"sk-label-container\"><div class=\"sk-label sk-toggleable\"><input class=\"sk-toggleable__control sk-hidden--visually\" id=\"sk-estimator-id-63\" type=\"checkbox\" ><label for=\"sk-estimator-id-63\" class=\"sk-toggleable__label sk-toggleable__label-arrow\">remainder</label><div class=\"sk-toggleable__content\"><pre>[&#x27;AGE&#x27;, &#x27;EDUC&#x27;, &#x27;ARRESTS&#x27;, &#x27;LOS&#x27;, &#x27;FREQ1&#x27;, &#x27;FRSTUSE1&#x27;]</pre></div></div></div><div class=\"sk-serial\"><div class=\"sk-item\"><div class=\"sk-estimator sk-toggleable\"><input class=\"sk-toggleable__control sk-hidden--visually\" id=\"sk-estimator-id-64\" type=\"checkbox\" ><label for=\"sk-estimator-id-64\" class=\"sk-toggleable__label sk-toggleable__label-arrow\">passthrough</label><div class=\"sk-toggleable__content\"><pre>passthrough</pre></div></div></div></div></div></div></div></div></div></div></div></div>"
            ],
            "text/plain": [
              "Pipeline(steps=[('transformer',\n",
              "                 ColumnTransformer(remainder='passthrough',\n",
              "                                   transformers=[('onehot',\n",
              "                                                  OneHotEncoder(drop='first'),\n",
              "                                                  ['GENDER', 'MARSTAT',\n",
              "                                                   'EMPLOY', 'VET', 'LIVARAG',\n",
              "                                                   'REGION', 'METHUSE',\n",
              "                                                   'PSOURCE', 'SUB1', 'ROUTE1',\n",
              "                                                   'ALCDRUG', 'PSYPROB'])]))])"
            ]
          },
          "execution_count": 590,
          "metadata": {},
          "output_type": "execute_result"
        }
      ],
      "source": [
        "cat_features = ['GENDER','MARSTAT', 'EMPLOY', 'VET','LIVARAG','REGION', 'METHUSE', 'PSOURCE', 'SUB1', 'ROUTE1','ALCDRUG','PSYPROB']\n",
        "X_train,X_test,y_train,y_test = train_test_split(X,y,test_size=0.3,random_state=42,shuffle= True)\n",
        "X_train.shape,X_test.shape,y_train.shape,y_test.shape\n",
        "# create the instance of OneHotEncoder\n",
        "onehot = OneHotEncoder(drop='first')\n",
        "\n",
        "# define the transformer\n",
        "transformer = ColumnTransformer(\n",
        "    transformers=[\n",
        "        ('onehot',onehot,cat_features)]\n",
        "                                ,remainder='passthrough')\n",
        "# define the pipeline\n",
        "pipeline = Pipeline(\n",
        "    steps=[('transformer', transformer),\n",
        "           ('model',LogisticRegression())])\n",
        "pipeline.fit(X_train)"
      ]
    },
    {
      "cell_type": "code",
      "execution_count": null,
      "metadata": {
        "id": "nYY960j3AegO"
      },
      "outputs": [],
      "source": []
    },
    {
      "cell_type": "code",
      "execution_count": null,
      "metadata": {
        "id": "UWDAZU9_AegO"
      },
      "outputs": [],
      "source": [
        "X_train_new = pipeline.transform(X_train)\n",
        "X_test_new = pipeline.transform(X_test)"
      ]
    },
    {
      "cell_type": "code",
      "execution_count": null,
      "metadata": {
        "id": "BLLj2QprAegO"
      },
      "outputs": [],
      "source": [
        "# pipeline.named_steps['transformer'].transformers_[0][1].get_feature_names_out(cat_features))\n",
        "# ['AGE','EDUC','ARRESTS','LOS','FREQ1','FRSTUSE1']"
      ]
    },
    {
      "cell_type": "code",
      "execution_count": null,
      "metadata": {
        "id": "CgCAl5t-AegO"
      },
      "outputs": [],
      "source": [
        "rf_params = {'max_depth': list(range(1,20,5)),\n",
        "            'min_samples_leaf': list(range(5,100,10)),\n",
        "            'criterion': ['gini', 'entropy'] }\n",
        "\n",
        "lr_params = { 'C' : np.random.uniform(0.1, 20),\n",
        "             'solver' : ['newton-cg','sag','saga'],\n",
        "             'max_iter' :list(range(100, 10000))}\n",
        "dt_params = {\n",
        "    'criterion': ['gini', 'entropy'], \n",
        "    'max_depth': list(range(1,20,5)), \n",
        "    'min_samples_split': 2, \n",
        "    'min_samples_leaf': 1,\n",
        "    'ccp_alpha': 0.01,\n",
        "}\n",
        "# sm = SMOTE(random_state = 2)"
      ]
    },
    {
      "cell_type": "code",
      "execution_count": null,
      "metadata": {
        "id": "hLIz1nmCAegO"
      },
      "outputs": [],
      "source": [
        "models = {'Logistic Regression': LogisticRegression(max_iter=1000),\n",
        "        #   'KNN': KNeighborsClassifier(),\n",
        "          'Random Forest': RandomForestClassifier(),\n",
        "          'Naive Bayes':GaussianNB(),\n",
        "          'Desicion Tree':DecisionTreeClassifier(),\n",
        "          'XG-Boost':XGBClassifier()} "
      ]
    },
    {
      "cell_type": "code",
      "execution_count": null,
      "metadata": {
        "id": "rfkcJyS-AegP"
      },
      "outputs": [],
      "source": [
        "def train_test_score(models,X_train,X_test,y_train,y_test):\n",
        "    \"\"\" fit and evaluates given machine learning models\n",
        "    X_train = training data (no labels),X_test = testing data (no labels),y_train = training label,y_test = testing label \"\"\"\n",
        "    final_score = {}\n",
        "    train_dict = {}\n",
        "    test_dict = {}\n",
        "    for name , model in models.items():\n",
        "        fitted = model.fit(X_train,y_train)\n",
        "        train_score = model.score(X_train,y_train)\n",
        "        train_dict[name] = round(train_score,2)\n",
        "        test_score  = model.score(X_test,y_test)\n",
        "        test_dict[name] = round(test_score,2)\n",
        "        \n",
        "    final_score['Train Score'] = train_dict\n",
        "    final_score['Test Score'] = test_dict\n",
        "    return final_score"
      ]
    },
    {
      "cell_type": "code",
      "execution_count": null,
      "metadata": {
        "id": "Mrw-KaIhAegP"
      },
      "outputs": [],
      "source": [
        "base = train_test_score(models=models,X_train=X_train_new,X_test=X_test_new,y_train=y_train,y_test=y_test)"
      ]
    },
    {
      "cell_type": "code",
      "execution_count": null,
      "metadata": {
        "id": "YB9WyO6fAegP",
        "outputId": "75162a61-8057-4b05-a0a8-b0575b3e6b49"
      },
      "outputs": [
        {
          "data": {
            "text/plain": [
              "{'Train Score': {'Logistic Regression': 0.67,\n",
              "  'Random Forest': 0.98,\n",
              "  'Naive Bayes': 0.46,\n",
              "  'Desicion Tree': 0.98,\n",
              "  'XG-Boost': 0.77},\n",
              " 'Test Score': {'Logistic Regression': 0.66,\n",
              "  'Random Forest': 0.68,\n",
              "  'Naive Bayes': 0.46,\n",
              "  'Desicion Tree': 0.61,\n",
              "  'XG-Boost': 0.71}}"
            ]
          },
          "execution_count": 597,
          "metadata": {},
          "output_type": "execute_result"
        }
      ],
      "source": [
        "base"
      ]
    },
    {
      "cell_type": "code",
      "execution_count": null,
      "metadata": {
        "id": "B8JA4rRWAegP"
      },
      "outputs": [],
      "source": [
        "# fpr, tpr, thresholds = roc_curve(y, pred)\n",
        "# roc_auc = auc(fpr, tpr)\n",
        "# display = RocCurveDisplay(fpr=fpr, tpr=tpr, roc_auc=roc_auc,estimator_name='example estimator')\n",
        "# fpr, tpr, thresholds = metrics.roc_curve(y, pred)"
      ]
    },
    {
      "cell_type": "code",
      "execution_count": null,
      "metadata": {
        "id": "WPMUvVLPAegP"
      },
      "outputs": [],
      "source": [
        "# #SMOTE\n",
        "#  import pandas as pd\n",
        "#  import numpy as np\n",
        "#  new = df = pd.read_csv('/Users/hardey/Desktop/COV Thesis/Data/35074-0001-Data.tsv',sep='\\t')\n",
        "# new.shape\n",
        "# new.columns\n",
        "# def put_na(x):\n",
        "#     if x == -9:\n",
        "#         return np.nan\n",
        "#     else:\n",
        "#         return x\n",
        "# for col in new.columns:\n",
        "#     new[col]=new[col].apply(put_na)\n",
        "# missing = {}\n",
        "# for col in new.columns:\n",
        "#     missing[col] = round((new[col].isna().sum()/len(new[col]))*100,2)\n",
        "# missing_value = pd.DataFrame({'Column':missing.keys(),'Missing %':missing.values()}).sort_values(by='Missing %',ascending=False)\n",
        "# missing_value.head(10)\n",
        "\n",
        "# new_copy = new.copy()\n",
        "# new_copy = new_copy.drop(missing_value[missing_value['Missing %']>20]['Column'].values,axis=1)\n",
        "# new_copy.head()\n",
        "# missing_copy = {}\n",
        "# for col in new_copy.columns:\n",
        "#     missing_copy[col] = round((new_copy[col].isna().sum()/len(new_copy[col]))*100,2)\n",
        "# missing_value_copy = pd.DataFrame({'Column':missing_copy.keys(),'Missing %':missing_copy.values()}).sort_values(by='Missing %',ascending=False)\n",
        "# missing_value_copy.head(10)\n",
        "# new_copy = new_copy[(new_copy['RACE']==4) & (new_copy['NOPRIOR']==0)]\n",
        "# new_copy.head()"
      ]
    },
    {
      "cell_type": "code",
      "execution_count": null,
      "metadata": {
        "id": "NJ2tuM0OAegQ"
      },
      "outputs": [],
      "source": [
        "# import pandas as pd\n",
        "# from sklearn import datasets\n",
        "# from sklearn.model_selection import train_test_split\n",
        "# from sklearn.linear_model import LinearRegression\n",
        "# x = datasets.load_boston().data\n",
        "# y = datasets.load_boston().target\n",
        "# columns = datasets.load_boston().feature_names\n",
        "# df = pd.DataFrame(x,columns=columns)\n",
        "# df['PRICE'] = y\n",
        "# df.describe().T"
      ]
    },
    {
      "cell_type": "code",
      "execution_count": null,
      "metadata": {
        "id": "wvTQ0tZgAegQ"
      },
      "outputs": [],
      "source": [
        "fig, ax = plt.subplots(ncols=4,figsize=(25,5))\n",
        "sns.countplot(data=final,x='GENDER',hue='REASON',ax=ax[0])\n",
        "sns.countplot(data=final,x='SUB1',hue='REASON',palette='rainbow',ax=ax[1]).set_xticklabels(ax[1].get_xticklabels(),rotation=45, ha='right')\n",
        "sns.countplot(data=final,x='ALCDRUG',hue='REASON',palette='rainbow',ax=ax[2]).set_xticklabels(ax[2].get_xticklabels(),rotation=45, ha='right')\n",
        "sns.countplot(data=final,x='MARSTAT',hue='REASON',palette='rainbow',ax=ax[3])\n",
        "fig.tight_layout()\n",
        "fig, ax = plt.subplots(ncols=4,figsize=(25,5))\n",
        "sns.countplot(data=final,x='LIVARAG',hue='REASON',palette='rainbow',ax=ax[0])\n",
        "sns.countplot(data=final,x='EMPLOY',hue='REASON',palette='rainbow',ax=ax[1])\n",
        "sns.countplot(data=final,x='ARRESTS',hue='REASON',palette='rainbow',ax=ax[2])\n",
        "sns.countplot(data=final,x='REGION',hue='REASON',palette='rainbow',ax=ax[3])\n",
        "fig.tight_layout()\n",
        "fig, ax = plt.subplots(ncols=4,figsize=(25,5))\n",
        "sns.countplot(data=final,x='VET',hue='REASON',palette='rainbow',ax=ax[0])\n",
        "sns.countplot(data=final,x='METHUSE',hue='REASON',palette='rainbow',ax=ax[1])\n",
        "sns.countplot(data=final,x='EDUC',hue='REASON',palette='rainbow',ax=ax[2]).set_xticklabels(ax[2].get_xticklabels(),rotation=45, ha='right')\n",
        "sns.countplot(data=final,x='ROUTE1',hue='REASON',palette='rainbow',ax=ax[3])\n",
        "fig.tight_layout()\n",
        "fig, ax = plt.subplots(ncols=3,figsize=(25,5))\n",
        "sns.countplot(data=final,x='FRSTUSE1',hue='REASON',palette='rainbow',ax=ax[0]).set_xticklabels(ax[0].get_xticklabels(),rotation=45, ha='right')\n",
        "sns.countplot(data=final,x='LOS',hue='REASON',palette='rainbow',ax=ax[1]).set_xticklabels(ax[1].get_xticklabels(),rotation=45, ha='right')\n",
        "sns.countplot(data=final,x='PSOURCE',hue='REASON',palette='rainbow',ax=ax[2]).set_xticklabels(ax[2].get_xticklabels(),rotation=45, ha='right');"
      ]
    },
    {
      "cell_type": "code",
      "execution_count": null,
      "metadata": {
        "id": "eD3aEbjYAegQ",
        "outputId": "7e3541f8-231e-4a7a-d8e0-8b86a6520a62"
      },
      "outputs": [
        {
          "ename": "SyntaxError",
          "evalue": "invalid syntax (1955327521.py, line 3)",
          "output_type": "error",
          "traceback": [
            "\u001b[0;36m  File \u001b[0;32m\"/var/folders/98/116rntps01j3zcbq56ks9h3r0000gn/T/ipykernel_4716/1955327521.py\"\u001b[0;36m, line \u001b[0;32m3\u001b[0m\n\u001b[0;31m    ====\u001b[0m\n\u001b[0m    ^\u001b[0m\n\u001b[0;31mSyntaxError\u001b[0m\u001b[0;31m:\u001b[0m invalid syntax\n"
          ]
        }
      ],
      "source": [
        "\n",
        "\n",
        "# Create a DecisionTreeClassifier object with the parameters above\n",
        "clf = DecisionTreeClassifier(**params)\n",
        "====\n",
        "\n",
        "# Define a parameter grid with distributions of possible parameters to use\n",
        "rs_param_grid = {\n",
        "    \"criterion\": [\"gini\", \"entropy\"],\n",
        "    \"max_depth\": list((range(3, 12))),\n",
        "    \"min_samples_split\": list((range(2, 5))),\n",
        "    \"min_samples_leaf\": list((range(1, 5))),\n",
        "    \"ccp_alpha\": [0, 0.001, 0.01, 0.1],\n",
        "}\n",
        "\n",
        "# Create a decision tree classifer object\n",
        "clf = DecisionTreeClassifier(random_state=123)\n",
        "\n",
        "# Instantiate RandomizedSearchCV() with clf and the parameter grid\n",
        "clf_rs = RandomizedSearchCV(\n",
        "    estimator=clf,\n",
        "    param_distributions=rs_param_grid,\n",
        "    cv=3,  # Number of folds\n",
        "    n_iter=10,  # Number of parameter candidate settings to sample\n",
        "    verbose=2,  # The higher this is, the more messages are outputed\n",
        "    random_state=123,\n",
        ")\n",
        "=====\n",
        "\n",
        "# # Import SMOTE\n",
        "# from imblearn.over_sampling import SMOTE\n",
        "\n",
        "# # Resample the data\n",
        "# sm = SMOTE(random_state=42)\n",
        "# X_res, y_res = sm.fit_resample(X_train, y_train)\n",
        "\n",
        "# # View the resampled labels\n",
        "# plot_resample(X_train, y_train, X_res, y_res, \"SMOTE\n",
        "# ======\n",
        "# # Import RandomOverSampler\n",
        "# from imblearn.over_sampling import RandomOverSampler\n",
        "\n",
        "# # Resample the data\n",
        "# ros = RandomOverSampler(random_state=42)\n",
        "# X_res, y_res = ros.fit_resample(X_train, y_train)\n",
        "\n",
        "# # View the resampled labels\n",
        "# plot_resample(X_train, y_train, X_res, y_res, \"Random Over Sampling\")\n",
        "\n",
        "# ======\n",
        "\n",
        "# def plot_resample(X, y, X_res, y_res, method):    \n",
        "#     # Create subplots\n",
        "#     fig, axes = plt.subplot_mosaic([['a', 'b'], ['c', 'd']])\n",
        "# \t# Generate scatterplots of first two features for inspection\n",
        "#     sns.scatterplot(X.iloc[y.values == 0, 0], X.iloc[y.values == 0, 1], alpha=0.10, ax=axes['a'])\n",
        "#     sns.scatterplot(X.iloc[y.values == 1, 0], X.iloc[y.values == 1, 1], alpha=0.10, ax=axes['a'])\n",
        "#     sns.scatterplot(X_res.iloc[y_res.values == 0, 0], X_res.iloc[y_res.values == 0, 1], alpha=0.10, ax=axes['b'])\n",
        "#     sns.scatterplot(X_res.iloc[y_res.values == 1, 0], X_res.iloc[y_res.values == 1, 1], alpha=0.10, ax=axes['b'])\n",
        "#     sns.countplot(y=y, ax=axes['c'])\n",
        "#     sns.countplot(y=y_res, ax=axes['d'])\n",
        "#     # Set titles and show plot\n",
        "#     plt.suptitle(method + ' Outcomes')\n",
        "#     axes['a'].title.set_text('Original Data')\n",
        "#     axes['b'].title.set_text(method + ' Data')\n",
        "#     axes['c'].title.set_text('Original Class Proportions')\n",
        "#     axes['d'].title.set_text(method + ' Class Proportions')\n",
        "#     plt.tight_layout()\n",
        "#     plt.show()"
      ]
    },
    {
      "cell_type": "code",
      "execution_count": null,
      "metadata": {
        "id": "ywOAWjYhAegR"
      },
      "outputs": [],
      "source": [
        "# from sklearn.linear_model import LinearRegression,ElasticNet\n",
        "# from sklearn.neighbors import KNeighborsRegressor\n",
        "# from sklearn.tree import DecisionTreeRegressor\n",
        "# from sklearn.model_selection import KFold,train_test_split\n",
        "# from sklearn.ensemble import RandomForestRegressor,BaggingRegressor,AdaBoostRegressor,ExtraTreesRegressor\n",
        "# from sklearn.metrics import mean_squared_error\n",
        "# import numpy as np"
      ]
    },
    {
      "cell_type": "code",
      "execution_count": null,
      "metadata": {
        "id": "rXObDwjJAegS",
        "outputId": "eb7282b4-5e65-43bd-dc96-033f2741747b"
      },
      "outputs": [
        {
          "name": "stdout",
          "output_type": "stream",
          "text": [
            "Train (500, 100) (500,) Test (500, 100) (500,)\n"
          ]
        }
      ],
      "source": [
        "# from sklearn.datasets import make_regression\n",
        "# X, y = make_regression(n_samples=1000, n_features=100, noise=0.5)\n",
        "# X, X_val, y, y_val = train_test_split(X, y, test_size=0.50)\n",
        "# print('Train', X.shape, y.shape, 'Test', X_val.shape, y_val.shape)"
      ]
    },
    {
      "cell_type": "code",
      "execution_count": null,
      "metadata": {
        "id": "_mT1wOScAegS"
      },
      "outputs": [],
      "source": [
        "# # create a list of base-models\n",
        "# def get_models():\n",
        "# \tmodels = list()\n",
        "# \tmodels.append(LinearRegression())\n",
        "# \tmodels.append(ElasticNet())\n",
        "# \tmodels.append(DecisionTreeRegressor())\n",
        "# \t# models.append(KNeighborsRegressor())\n",
        "# \tmodels.append(AdaBoostRegressor())\n",
        "# \tmodels.append(BaggingRegressor(n_estimators=10))\n",
        "# \tmodels.append(RandomForestRegressor(n_estimators=10))\n",
        "# \tmodels.append(ExtraTreesRegressor(n_estimators=10))\n",
        "# \treturn models"
      ]
    },
    {
      "cell_type": "code",
      "execution_count": null,
      "metadata": {
        "id": "JFAzi8LUAegT"
      },
      "outputs": [],
      "source": [
        "# # collect out of fold predictions form k-fold cross validation\n",
        "# def get_out_of_fold_predictions(X, y, models):\n",
        "# \tmeta_X, meta_y = list(), list()\n",
        "# \t# define split of data\n",
        "# \tkfold = KFold(n_splits=10, shuffle=True)\n",
        "# \t# enumerate splits\n",
        "# \tfor train_ix, test_ix in kfold.split(X):\n",
        "# \t\tprint(len(train_ix),len(test_ix))\n",
        "# \t\tfold_yhats = list()\n",
        "# \t\t# get data\n",
        "# \t\ttrain_X, test_X = X[train_ix], X[test_ix]\n",
        "# \t\ttrain_y, test_y = y[train_ix], y[test_ix]\n",
        "# \t\tmeta_y.extend(test_y)\n",
        "# \t\t# fit and make predictions with each sub-model\n",
        "# \t\tfor model in models:\n",
        "# \t\t\tmodel.fit(train_X, train_y)\n",
        "# \t\t\tpred = model.predict(test_X)\n",
        "# \t\t\t# store columns\n",
        "# \t\t\tfold_yhats.append(pred.reshape(len(pred),1))\n",
        "# \t\t# store fold yhats as columns\n",
        "# \t\tmeta_X.append(np.hstack(fold_yhats))\n",
        "# \treturn np.vstack(meta_X), np.asarray(meta_y)"
      ]
    },
    {
      "cell_type": "code",
      "execution_count": null,
      "metadata": {
        "id": "ZTDxCUrSAegT",
        "outputId": "114d06cb-f88e-4e3f-d039-493347a318c8"
      },
      "outputs": [
        {
          "name": "stdout",
          "output_type": "stream",
          "text": [
            "450 50\n",
            "450 50\n",
            "450 50\n",
            "450 50\n",
            "450 50\n",
            "450 50\n",
            "450 50\n",
            "450 50\n",
            "450 50\n",
            "450 50\n",
            "Meta  (500, 7) (500,)\n"
          ]
        }
      ],
      "source": [
        "# # get models\n",
        "# models = get_models()\n",
        "# # get out of fold predictions\n",
        "# meta_X, meta_y = get_out_of_fold_predictions(X, y, models)\n",
        "# print('Meta ', meta_X.shape, meta_y.shape)"
      ]
    },
    {
      "cell_type": "code",
      "execution_count": null,
      "metadata": {
        "id": "kRCCHc93AegT"
      },
      "outputs": [],
      "source": [
        "# # fit all base models on the training dataset\n",
        "# def fit_base_models(X, y, models):\n",
        "# \tfor model in models:\n",
        "# \t\tmodel.fit(X, y)"
      ]
    },
    {
      "cell_type": "code",
      "execution_count": null,
      "metadata": {
        "id": "3w8f2Xq6AegU"
      },
      "outputs": [],
      "source": [
        "# # fit a meta model\n",
        "# def fit_meta_model(X, y):\n",
        "# \tmodel = LinearRegression()\n",
        "# \tmodel.fit(X, y)\n",
        "# \treturn model"
      ]
    },
    {
      "cell_type": "code",
      "execution_count": null,
      "metadata": {
        "id": "SDEWH7MuAegU"
      },
      "outputs": [],
      "source": [
        "# def evaluate_models(X, y, models):\n",
        "# \tfor model in models:\n",
        "# \t\tyhat = model.predict(X)\n",
        "# \t\tmse = mean_squared_error(y, yhat)\n",
        "# \t\tprint('%s: RMSE %.3f' % (model.__class__.__name__, np.sqrt(mse)))"
      ]
    },
    {
      "cell_type": "code",
      "execution_count": null,
      "metadata": {
        "id": "JcY_KVFXAegV"
      },
      "outputs": [],
      "source": [
        "# # make predictions with stacked model\n",
        "# def super_learner_predictions(X, models, meta_model):\n",
        "# \tmeta_X = list()\n",
        "# \tfor model in models:\n",
        "# \t\tyhat = model.predict(X)\n",
        "# \t\tmeta_X.append(yhat.reshape(len(yhat),1))\n",
        "# \tmeta_X = np.hstack(meta_X)\n",
        "# \t# predict\n",
        "# \treturn meta_model.predict(meta_X)"
      ]
    },
    {
      "cell_type": "code",
      "execution_count": null,
      "metadata": {
        "id": "zYFSiCDiAegV",
        "outputId": "889e5881-de6f-45e8-fb5b-86a968752370"
      },
      "outputs": [
        {
          "ename": "NameError",
          "evalue": "name 'meta_model' is not defined",
          "output_type": "error",
          "traceback": [
            "\u001b[0;31m---------------------------------------------------------------------------\u001b[0m",
            "\u001b[0;31mNameError\u001b[0m                                 Traceback (most recent call last)",
            "\u001b[0;32m/var/folders/98/116rntps01j3zcbq56ks9h3r0000gn/T/ipykernel_18607/3772699961.py\u001b[0m in \u001b[0;36m<module>\u001b[0;34m\u001b[0m\n\u001b[1;32m      1\u001b[0m \u001b[0;31m# evaluate meta model\u001b[0m\u001b[0;34m\u001b[0m\u001b[0;34m\u001b[0m\u001b[0m\n\u001b[0;32m----> 2\u001b[0;31m \u001b[0myhat\u001b[0m \u001b[0;34m=\u001b[0m \u001b[0msuper_learner_predictions\u001b[0m\u001b[0;34m(\u001b[0m\u001b[0mX_val\u001b[0m\u001b[0;34m,\u001b[0m \u001b[0mmodels\u001b[0m\u001b[0;34m,\u001b[0m \u001b[0mmeta_model\u001b[0m\u001b[0;34m)\u001b[0m\u001b[0;34m\u001b[0m\u001b[0;34m\u001b[0m\u001b[0m\n\u001b[0m\u001b[1;32m      3\u001b[0m \u001b[0mprint\u001b[0m\u001b[0;34m(\u001b[0m\u001b[0;34m'Super Learner: RMSE %.3f'\u001b[0m \u001b[0;34m%\u001b[0m \u001b[0;34m(\u001b[0m\u001b[0mnp\u001b[0m\u001b[0;34m.\u001b[0m\u001b[0msqrt\u001b[0m\u001b[0;34m(\u001b[0m\u001b[0mmean_squared_error\u001b[0m\u001b[0;34m(\u001b[0m\u001b[0my_val\u001b[0m\u001b[0;34m,\u001b[0m \u001b[0myhat\u001b[0m\u001b[0;34m)\u001b[0m\u001b[0;34m)\u001b[0m\u001b[0;34m)\u001b[0m\u001b[0;34m)\u001b[0m\u001b[0;34m\u001b[0m\u001b[0;34m\u001b[0m\u001b[0m\n",
            "\u001b[0;31mNameError\u001b[0m: name 'meta_model' is not defined"
          ]
        }
      ],
      "source": [
        "# # evaluate meta model\n",
        "# yhat = super_learner_predictions(X_val, models, meta_model)\n",
        "# print('Super Learner: RMSE %.3f' % (np.sqrt(mean_squared_error(y_val, yhat))))"
      ]
    },
    {
      "cell_type": "code",
      "execution_count": null,
      "metadata": {
        "id": "NSOV8OrlAegV",
        "outputId": "71fcc8b4-f4f9-4299-b980-ef2e93221afb"
      },
      "outputs": [
        {
          "name": "stderr",
          "output_type": "stream",
          "text": [
            "[MLENS] backend: threading\n"
          ]
        },
        {
          "name": "stdout",
          "output_type": "stream",
          "text": [
            "Train (500, 100) (500,) Test (500, 100) (500,)\n",
            "                                   score-m  score-s  ft-m  ft-s  pt-m  pt-s\n",
            "layer-1  adaboostclassifier           0.91     0.02  0.86  0.09  0.03  0.01\n",
            "layer-1  baggingclassifier            0.84     0.04  0.36  0.02  0.01  0.01\n",
            "layer-1  decisiontreeclassifier       0.74     0.04  0.06  0.01  0.00  0.00\n",
            "layer-1  extratreesclassifier         0.82     0.04  0.13  0.02  0.01  0.00\n",
            "layer-1  gaussiannb                   0.97     0.03  0.01  0.00  0.00  0.00\n",
            "layer-1  logisticregression           0.96     0.02  0.02  0.00  0.00  0.00\n",
            "layer-1  randomforestclassifier       0.87     0.04  0.12  0.02  0.01  0.01\n",
            "layer-1  svc                          0.97     0.03  0.13  0.01  0.01  0.00\n",
            "\n",
            "Super Learner: 98.200\n"
          ]
        }
      ],
      "source": [
        "# from sklearn.datasets import make_blobs\n",
        "# from sklearn.model_selection import train_test_split\n",
        "# from sklearn.metrics import accuracy_score\n",
        "# from sklearn.neighbors import KNeighborsClassifier\n",
        "# from sklearn.linear_model import LogisticRegression\n",
        "# from sklearn.tree import DecisionTreeClassifier\n",
        "# from sklearn.svm import SVC\n",
        "# from sklearn.naive_bayes import GaussianNB\n",
        "# from sklearn.ensemble import AdaBoostClassifier\n",
        "# from sklearn.ensemble import BaggingClassifier\n",
        "# from sklearn.ensemble import RandomForestClassifier\n",
        "# from sklearn.ensemble import ExtraTreesClassifier\n",
        "# from mlens.ensemble import SuperLearner\n",
        " \n",
        "# # create a list of base-models\n",
        "# def get_models():\n",
        "# \tmodels = list()\n",
        "# \tmodels.append(LogisticRegression(solver='liblinear'))\n",
        "# \tmodels.append(DecisionTreeClassifier())\n",
        "# \tmodels.append(SVC(gamma='scale', probability=True))\n",
        "# \tmodels.append(GaussianNB())\n",
        "# \t# models.append(KNeighborsClassifier())\n",
        "# \tmodels.append(AdaBoostClassifier())\n",
        "# \tmodels.append(BaggingClassifier(n_estimators=10))\n",
        "# \tmodels.append(RandomForestClassifier(n_estimators=10))\n",
        "# \tmodels.append(ExtraTreesClassifier(n_estimators=10))\n",
        "# \treturn models\n",
        " \n",
        "# # create the super learner\n",
        "# def get_super_learner(X):\n",
        "# \tensemble = SuperLearner(scorer=accuracy_score, folds=10, shuffle=True, sample_size=len(X))\n",
        "# \t# add base models\n",
        "# \tmodels = get_models()\n",
        "# \tensemble.add(models)\n",
        "# \t# add the meta model\n",
        "# \tensemble.add_meta(LogisticRegression(solver='lbfgs'))\n",
        "# \treturn ensemble\n",
        " \n",
        "# # create the inputs and outputs\n",
        "# X, y = make_blobs(n_samples=1000, centers=2, n_features=100, cluster_std=20)\n",
        "# # split\n",
        "# X, X_val, y, y_val = train_test_split(X, y, test_size=0.50)\n",
        "# print('Train', X.shape, y.shape, 'Test', X_val.shape, y_val.shape)\n",
        "# # create the super learner\n",
        "# ensemble = get_super_learner(X)\n",
        "# # fit the super learner\n",
        "# ensemble.fit(X, y)\n",
        "# # summarize base learners\n",
        "# print(ensemble.data)\n",
        "# # make predictions on hold out set\n",
        "# yhat = ensemble.predict(X_val)\n",
        "# print('Super Learner: %.3f' % (accuracy_score(y_val, yhat) * 100))"
      ]
    },
    {
      "cell_type": "code",
      "execution_count": null,
      "metadata": {
        "id": "oyYJ_QUiAegV"
      },
      "outputs": [],
      "source": [
        "from collections import Counter"
      ]
    },
    {
      "cell_type": "code",
      "execution_count": null,
      "metadata": {
        "id": "BQAxdDKGAegV"
      },
      "outputs": [],
      "source": [
        "# # import lazypredict\n",
        "# from lazypredict import Supervised\n",
        "# # .Supervised import LazyClassifier \n",
        "# from sklearn.datasets import load_breast_cancer \n",
        "# from sklearn.model_selection import train_test_split\n",
        "# data = load_breast_cancer()\n",
        "# X = data.data\n",
        "# y= data.target\n",
        "# X_train, X_test, y_train, y_test = train_test_split(X, y, test_size=.5, random_state =123)\n",
        "# clf = LazyClassifier(verbose=0, ignore_warnings=True, custom_metric=None)\n",
        "# models,predictions = clf.fit(X_train,X_test, y_train, y_test)\n",
        "# models"
      ]
    },
    {
      "cell_type": "code",
      "execution_count": null,
      "metadata": {
        "id": "T812LWIzAegW",
        "outputId": "3f621605-075a-4ed1-be70-e1fea3446169"
      },
      "outputs": [
        {
          "name": "stdout",
          "output_type": "stream",
          "text": [
            "You rolled the dice\n",
            "You got a/an Leg, but you need a body first before any other part\n",
            "You rolled the dice\n",
            "You got a/an Leg, but you need a body first before any other part\n",
            "You rolled the dice\n",
            "You got a/an Mouth, but you need a body first before any other part\n",
            "You rolled the dice\n",
            "You got a/an Wing, but you need a body first before any other part\n",
            "You rolled the dice\n",
            "You got a/an Tail, but you need a body first before any other part\n",
            "You rolled the dice\n",
            "You got a/an Leg, but you need a body first before any other part\n",
            "You rolled the dice\n",
            "You got a/an Eye, but you need a body first before any other part\n",
            "You rolled the dice\n",
            "You got a/an Horn, but you need a body first before any other part\n",
            "You rolled the dice\n",
            "You got a/an Wing, but you need a body first before any other part\n",
            "You rolled the dice\n",
            "You got a/an Wing, but you need a body first before any other part\n",
            "You rolled the dice\n",
            "You got a/an Leg, but you need a body first before any other part\n",
            "You rolled the dice\n",
            "You got a/an Leg, but you need a body first before any other part\n",
            "You rolled the dice\n",
            "You got a/an Horn, but you need a body first before any other part\n",
            "You rolled the dice\n",
            "body parts collected for unicorn: [1]\n",
            "body parts collected for pegasus: [1]\n",
            "You rolled the dice\n",
            "body parts collected for unicorn: [1, 3]\n",
            "body parts collected for pegasus: [1, 3]\n",
            "You rolled the dice\n",
            "You got a/an Wing, but you need a Head first\n",
            "You rolled the dice\n",
            "body parts collected for unicorn: [1, 3, 3]\n",
            "body parts collected for pegasus: [1, 3, 3]\n",
            "You rolled the dice\n",
            "You got a/an Horn, but you need a Head first\n",
            "You rolled the dice\n",
            "You got a/an Wing, but you need a Head first\n",
            "You rolled the dice\n",
            "You got a/an Horn, but you need a Head first\n",
            "You rolled the dice\n",
            "You got a/an Horn, but you need a Head first\n",
            "You rolled the dice\n",
            "You got a/an Eye, but you need a Head first\n",
            "You rolled the dice\n",
            "You got a/an Wing, but you need a Head first\n",
            "You rolled the dice\n",
            "You got a/an Wing, but you need a Head first\n",
            "You rolled the dice\n",
            "body parts collected for unicorn: [1, 3, 3, 3]\n",
            "body parts collected for pegasus: [1, 3, 3, 3]\n",
            "You rolled the dice\n",
            "body parts collected for unicorn: [1, 3, 3, 3, 2]\n",
            "body parts collected for pegasus: [1, 3, 3, 3, 2]\n",
            "You rolled the dice\n",
            "You got a/an Wing, but you need a Head first\n",
            "You rolled the dice\n",
            "You got a/an Eye, but you need a Head first\n",
            "You rolled the dice\n",
            "You got a/an Wing, but you need a Head first\n",
            "You rolled the dice\n",
            "you already have a Body\n",
            "You rolled the dice\n",
            "body parts collected for unicorn: [1, 3, 3, 3, 2, 4]\n",
            "body parts collected for pegasus: [1, 3, 3, 3, 2, 4]\n",
            "You rolled the dice\n",
            "body parts collected for unicorn: [1, 3, 3, 3, 2, 4, 5]\n",
            "body parts collected for pegasus: [1, 3, 3, 3, 2, 4, 5]\n",
            "You rolled the dice\n",
            "you already have a complete set of Tail\n",
            "You rolled the dice\n",
            "you already have a Body\n",
            "You rolled the dice\n",
            "you already have a Head\n",
            "You rolled the dice\n",
            "you already have a complete set of Tail\n",
            "You rolled the dice\n",
            "body parts collected for unicorn: [1, 3, 3, 3, 2, 4, 5, 5]\n",
            "body parts collected for pegasus: [1, 3, 3, 3, 2, 4, 5, 5]\n",
            "You rolled the dice\n",
            "body parts collected for unicorn: [1, 3, 3, 3, 2, 4, 5, 5, 6]\n",
            "body parts collected for pegasus: [1, 3, 3, 3, 2, 4, 5, 5, 6]\n",
            "You rolled the dice\n",
            "body parts collected for unicorn: [1, 3, 3, 3, 2, 4, 5, 5, 6]\n",
            "body parts collected for pegasus: [1, 3, 3, 3, 2, 4, 5, 5, 6, 7]\n",
            "You rolled the dice\n",
            "you already have a Head\n",
            "You rolled the dice\n",
            "you already have a complete set of Tail\n",
            "You rolled the dice\n",
            "you already have a complete set of Tail\n",
            "You rolled the dice\n",
            "you already have a Mouth\n",
            "You rolled the dice\n",
            "body parts collected for unicorn: [1, 3, 3, 3, 2, 4, 5, 5, 6, 3]\n",
            "body parts collected for pegasus: [1, 3, 3, 3, 2, 4, 5, 5, 6, 7, 3]\n",
            "You rolled the dice\n",
            "body parts collected for unicorn: [1, 3, 3, 3, 2, 4, 5, 5, 6, 3, 8]\n",
            "body parts collected for pegasus: [1, 3, 3, 3, 2, 4, 5, 5, 6, 7, 3]\n",
            "you have sucessfully added the body in 13 number of throws\n",
            "you have sucessfully added the head in 11 number of throws\n",
            "you built both creatures in 45 number of throws\n"
          ]
        }
      ],
      "source": [
        "import random\n",
        "# One Python function that accepts an input of a character(pegasus or unicorn) when a die is rolled.\n",
        "def play_game_parallel():\n",
        "    pegasus = []\n",
        "    unicorn = []\n",
        "    build = []\n",
        "    parts_list = {1: 'Body', 2: 'Tail', 3:'Leg', 4:'Head', 5:'Eye', 6:'Mouth', 7:'Wing', 8:'Horn'}\n",
        "    total_parts = {'unicorn':11, 'pegasus':12}\n",
        "    parts_count = {'Body':1, 'Tail':1,'Horn':1,'Mouth':1,'Head':1,'Wing':2,'Eye':2,'Leg':4}\n",
        "    all_part = list(parts_list.keys())\n",
        "    count = 0\n",
        "    count_to_get_body = 0\n",
        "    count_to_get_head = 0\n",
        "    while (len(pegasus) != total_parts['pegasus'] and len(unicorn) != total_parts['unicorn']):\n",
        "        throw = random.choice(all_part)\n",
        "        print('You rolled the dice')\n",
        "        count += 1\n",
        "        if throw in [2,3,4,5,6,7,8] and 1 not in build:\n",
        "            count_to_get_body += 1\n",
        "            print(f'You got a/an {parts_list[throw]}, but you need a body first before any other part')\n",
        "        elif throw in [5,6,7,8] and 4 not in build:\n",
        "            count_to_get_head += 1\n",
        "            print(f'You got a/an {parts_list[throw]}, but you need a {parts_list[4]} first')\n",
        "        elif throw == 1 and build.count(1) == parts_count['Body']:\n",
        "            print(f'you already have a {parts_list[1]}')\n",
        "        elif throw == 2 and build.count(2) == parts_count['Tail']:\n",
        "            print(f'you already have a complete set of {parts_list[2]}')            \n",
        "        elif throw == 3 and build.count(3) == parts_count['Leg']:\n",
        "            print(f'you already have a  {parts_list[3]}s')\n",
        "        elif throw == 4 and build.count(4) == parts_count['Head']:\n",
        "            print(f'you already have a {parts_list[4]}')\n",
        "        elif throw == 5 and build.count(5) == parts_count['Eye']:\n",
        "            print(f'you already have a complete set of {parts_list[5]}')\n",
        "        elif throw == 6 and build.count(6) == parts_count['Mouth']:\n",
        "            print(f'you already have a {parts_list[6]}')\n",
        "        elif throw == 7 and build.count(7) == parts_count['Wing']:\n",
        "            print(f'you already have a complete set of {parts_list[7]}s')\n",
        "        elif throw == 8 and build.count(8) == parts_count['Horn']:\n",
        "            print(f'you already have a {parts_list[8]}')\n",
        "        else: \n",
        "            build.append(throw)\n",
        "            pegasus.append(throw)\n",
        "            unicorn.append(throw)\n",
        "            if throw == 7:\n",
        "                unicorn.remove(throw)\n",
        "            if throw == 8:\n",
        "                pegasus.remove(throw) \n",
        "            print(f'body parts collected for unicorn: {unicorn}')\n",
        "            print(f'body parts collected for pegasus: {pegasus}')\n",
        "    print(f'you have sucessfully added the body in {count_to_get_body} number of throws')\n",
        "    print(f'you have sucessfully added the head in {count_to_get_head} number of throws')   \n",
        "    print(f'you built both creatures in {count} number of throws')\n",
        "play_game_parallel()\n"
      ]
    }
  ],
  "metadata": {
    "kernelspec": {
      "display_name": "Python 3.9.7 ('base')",
      "language": "python",
      "name": "python3"
    },
    "language_info": {
      "codemirror_mode": {
        "name": "ipython",
        "version": 3
      },
      "file_extension": ".py",
      "mimetype": "text/x-python",
      "name": "python",
      "nbconvert_exporter": "python",
      "pygments_lexer": "ipython3",
      "version": "3.9.7"
    },
    "orig_nbformat": 4,
    "vscode": {
      "interpreter": {
        "hash": "b0d12a59e4378da7c197db8b7ce6ae0d802d465f730e4b1730412e5d683bb5bf"
      }
    },
    "colab": {
      "provenance": [],
      "include_colab_link": true
    }
  },
  "nbformat": 4,
  "nbformat_minor": 0
}